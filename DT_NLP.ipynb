{
  "nbformat": 4,
  "nbformat_minor": 0,
  "metadata": {
    "colab": {
      "name": "DT_NLP.ipynb",
      "provenance": []
    },
    "kernelspec": {
      "display_name": "Python 3",
      "name": "python3"
    }
  },
  "cells": [
    {
      "cell_type": "markdown",
      "metadata": {
        "id": "b4rFtjHUNkxS"
      },
      "source": [
        "# Dataset creation"
      ]
    },
    {
      "cell_type": "code",
      "metadata": {
        "colab": {
          "base_uri": "https://localhost:8080/"
        },
        "id": "RciblLjkQshu",
        "outputId": "a5e26eb8-33cd-4d9d-c27e-f302ad88b122"
      },
      "source": [
        "from google.colab import drive \r\n",
        "\r\n",
        "drive.mount('/content/gdrive', force_remount=True)"
      ],
      "execution_count": null,
      "outputs": [
        {
          "output_type": "stream",
          "text": [
            "Mounted at /content/gdrive\n"
          ],
          "name": "stdout"
        }
      ]
    },
    {
      "cell_type": "code",
      "metadata": {
        "id": "zdkjnlOrQury"
      },
      "source": [
        "!mkdir -p input"
      ],
      "execution_count": null,
      "outputs": []
    },
    {
      "cell_type": "code",
      "metadata": {
        "colab": {
          "base_uri": "https://localhost:8080/"
        },
        "id": "drxmdpPvRCpU",
        "outputId": "ee3c6af5-2891-429b-84a2-f68c1b434253"
      },
      "source": [
        "!cp /content/gdrive/MyDrive/itmo_master/3/DT_NLP/dataset/*.csv input && ls -la"
      ],
      "execution_count": null,
      "outputs": [
        {
          "output_type": "stream",
          "text": [
            "total 24\n",
            "drwxr-xr-x 1 root root 4096 Jan 17 18:13 .\n",
            "drwxr-xr-x 1 root root 4096 Jan 17 18:08 ..\n",
            "drwxr-xr-x 1 root root 4096 Jan  8 17:11 .config\n",
            "drwx------ 5 root root 4096 Jan 17 18:13 gdrive\n",
            "drwxr-xr-x 2 root root 4096 Jan 17 18:13 input\n",
            "drwxr-xr-x 1 root root 4096 Jan  6 18:10 sample_data\n"
          ],
          "name": "stdout"
        }
      ]
    },
    {
      "cell_type": "code",
      "metadata": {
        "id": "MXXWZmnEij5w"
      },
      "source": [
        "!cp /content/gdrive/MyDrive/itmo_master/3/DT_NLP/dataset/*.zip input"
      ],
      "execution_count": null,
      "outputs": []
    },
    {
      "cell_type": "code",
      "metadata": {
        "colab": {
          "base_uri": "https://localhost:8080/"
        },
        "id": "ZaCYj75ujrxZ",
        "outputId": "194f64a3-5f47-43be-97c8-262caa8a1a1f"
      },
      "source": [
        "!unzip input/Questions -d ./input/ "
      ],
      "execution_count": null,
      "outputs": [
        {
          "output_type": "stream",
          "text": [
            "Archive:  input/Questions.zip\n",
            "  inflating: ./input/Questions.csv   \n"
          ],
          "name": "stdout"
        }
      ]
    },
    {
      "cell_type": "code",
      "metadata": {
        "colab": {
          "base_uri": "https://localhost:8080/"
        },
        "id": "fpb391fOj7lJ",
        "outputId": "f1eae5cb-75d7-4ce4-bce7-1e91be313e8f"
      },
      "source": [
        "!ls -lRa ./input/"
      ],
      "execution_count": null,
      "outputs": [
        {
          "output_type": "stream",
          "text": [
            "./input/:\n",
            "total 2522228\n",
            "drwxr-xr-x 2 root root       4096 Jan 17 18:13 .\n",
            "drwxr-xr-x 1 root root       4096 Jan 17 18:13 ..\n",
            "-rw-r--r-- 1 root root 1923682009 Oct  8  2019 Questions.csv\n",
            "-rw------- 1 root root  593576602 Jan 17 18:13 Questions.zip\n",
            "-rw------- 1 root root   65475836 Jan 17 18:13 Tags.csv\n"
          ],
          "name": "stdout"
        }
      ]
    },
    {
      "cell_type": "markdown",
      "metadata": {
        "id": "SvvTgZvBUt25"
      },
      "source": [
        "Prepare dataset"
      ]
    },
    {
      "cell_type": "code",
      "metadata": {
        "id": "7U6o44rjUxSn"
      },
      "source": [
        "import pandas as pd"
      ],
      "execution_count": null,
      "outputs": []
    },
    {
      "cell_type": "code",
      "metadata": {
        "colab": {
          "base_uri": "https://localhost:8080/",
          "height": 206
        },
        "id": "X2xgTpYvVDzz",
        "outputId": "ad2e027a-fd42-420f-a7f9-a0aeac0b7e39"
      },
      "source": [
        "# Read questions\r\n",
        "df = pd.read_csv(\"./input/Questions.csv\", encoding=\"ISO-8859-1\")\r\n",
        "df.head(5)"
      ],
      "execution_count": null,
      "outputs": [
        {
          "output_type": "execute_result",
          "data": {
            "text/html": [
              "<div>\n",
              "<style scoped>\n",
              "    .dataframe tbody tr th:only-of-type {\n",
              "        vertical-align: middle;\n",
              "    }\n",
              "\n",
              "    .dataframe tbody tr th {\n",
              "        vertical-align: top;\n",
              "    }\n",
              "\n",
              "    .dataframe thead th {\n",
              "        text-align: right;\n",
              "    }\n",
              "</style>\n",
              "<table border=\"1\" class=\"dataframe\">\n",
              "  <thead>\n",
              "    <tr style=\"text-align: right;\">\n",
              "      <th></th>\n",
              "      <th>Id</th>\n",
              "      <th>OwnerUserId</th>\n",
              "      <th>CreationDate</th>\n",
              "      <th>ClosedDate</th>\n",
              "      <th>Score</th>\n",
              "      <th>Title</th>\n",
              "      <th>Body</th>\n",
              "    </tr>\n",
              "  </thead>\n",
              "  <tbody>\n",
              "    <tr>\n",
              "      <th>0</th>\n",
              "      <td>80</td>\n",
              "      <td>26.0</td>\n",
              "      <td>2008-08-01T13:57:07Z</td>\n",
              "      <td>NaN</td>\n",
              "      <td>26</td>\n",
              "      <td>SQLStatement.execute() - multiple queries in o...</td>\n",
              "      <td>&lt;p&gt;I've written a database generation script i...</td>\n",
              "    </tr>\n",
              "    <tr>\n",
              "      <th>1</th>\n",
              "      <td>90</td>\n",
              "      <td>58.0</td>\n",
              "      <td>2008-08-01T14:41:24Z</td>\n",
              "      <td>2012-12-26T03:45:49Z</td>\n",
              "      <td>144</td>\n",
              "      <td>Good branching and merging tutorials for Torto...</td>\n",
              "      <td>&lt;p&gt;Are there any really good tutorials explain...</td>\n",
              "    </tr>\n",
              "    <tr>\n",
              "      <th>2</th>\n",
              "      <td>120</td>\n",
              "      <td>83.0</td>\n",
              "      <td>2008-08-01T15:50:08Z</td>\n",
              "      <td>NaN</td>\n",
              "      <td>21</td>\n",
              "      <td>ASP.NET Site Maps</td>\n",
              "      <td>&lt;p&gt;Has anyone got experience creating &lt;strong&gt;...</td>\n",
              "    </tr>\n",
              "    <tr>\n",
              "      <th>3</th>\n",
              "      <td>180</td>\n",
              "      <td>2089740.0</td>\n",
              "      <td>2008-08-01T18:42:19Z</td>\n",
              "      <td>NaN</td>\n",
              "      <td>53</td>\n",
              "      <td>Function for creating color wheels</td>\n",
              "      <td>&lt;p&gt;This is something I've pseudo-solved many t...</td>\n",
              "    </tr>\n",
              "    <tr>\n",
              "      <th>4</th>\n",
              "      <td>260</td>\n",
              "      <td>91.0</td>\n",
              "      <td>2008-08-01T23:22:08Z</td>\n",
              "      <td>NaN</td>\n",
              "      <td>49</td>\n",
              "      <td>Adding scripting functionality to .NET applica...</td>\n",
              "      <td>&lt;p&gt;I have a little game written in C#. It uses...</td>\n",
              "    </tr>\n",
              "  </tbody>\n",
              "</table>\n",
              "</div>"
            ],
            "text/plain": [
              "    Id  ...                                               Body\n",
              "0   80  ...  <p>I've written a database generation script i...\n",
              "1   90  ...  <p>Are there any really good tutorials explain...\n",
              "2  120  ...  <p>Has anyone got experience creating <strong>...\n",
              "3  180  ...  <p>This is something I've pseudo-solved many t...\n",
              "4  260  ...  <p>I have a little game written in C#. It uses...\n",
              "\n",
              "[5 rows x 7 columns]"
            ]
          },
          "metadata": {
            "tags": []
          },
          "execution_count": 8
        }
      ]
    },
    {
      "cell_type": "code",
      "metadata": {
        "colab": {
          "base_uri": "https://localhost:8080/",
          "height": 206
        },
        "id": "yjLfM3QmVTIy",
        "outputId": "7f1a1123-8eea-4e17-ea4a-d0e887193dab"
      },
      "source": [
        "# Read tags\r\n",
        "tags = pd.read_csv(\"./input/Tags.csv\", encoding=\"ISO-8859-1\", dtype={'Tag': str})\r\n",
        "tags.head(5)"
      ],
      "execution_count": null,
      "outputs": [
        {
          "output_type": "execute_result",
          "data": {
            "text/html": [
              "<div>\n",
              "<style scoped>\n",
              "    .dataframe tbody tr th:only-of-type {\n",
              "        vertical-align: middle;\n",
              "    }\n",
              "\n",
              "    .dataframe tbody tr th {\n",
              "        vertical-align: top;\n",
              "    }\n",
              "\n",
              "    .dataframe thead th {\n",
              "        text-align: right;\n",
              "    }\n",
              "</style>\n",
              "<table border=\"1\" class=\"dataframe\">\n",
              "  <thead>\n",
              "    <tr style=\"text-align: right;\">\n",
              "      <th></th>\n",
              "      <th>Id</th>\n",
              "      <th>Tag</th>\n",
              "    </tr>\n",
              "  </thead>\n",
              "  <tbody>\n",
              "    <tr>\n",
              "      <th>0</th>\n",
              "      <td>80</td>\n",
              "      <td>flex</td>\n",
              "    </tr>\n",
              "    <tr>\n",
              "      <th>1</th>\n",
              "      <td>80</td>\n",
              "      <td>actionscript-3</td>\n",
              "    </tr>\n",
              "    <tr>\n",
              "      <th>2</th>\n",
              "      <td>80</td>\n",
              "      <td>air</td>\n",
              "    </tr>\n",
              "    <tr>\n",
              "      <th>3</th>\n",
              "      <td>90</td>\n",
              "      <td>svn</td>\n",
              "    </tr>\n",
              "    <tr>\n",
              "      <th>4</th>\n",
              "      <td>90</td>\n",
              "      <td>tortoisesvn</td>\n",
              "    </tr>\n",
              "  </tbody>\n",
              "</table>\n",
              "</div>"
            ],
            "text/plain": [
              "   Id             Tag\n",
              "0  80            flex\n",
              "1  80  actionscript-3\n",
              "2  80             air\n",
              "3  90             svn\n",
              "4  90     tortoisesvn"
            ]
          },
          "metadata": {
            "tags": []
          },
          "execution_count": 9
        }
      ]
    },
    {
      "cell_type": "code",
      "metadata": {
        "colab": {
          "base_uri": "https://localhost:8080/"
        },
        "id": "M9rmyVRGkUci",
        "outputId": "542f5b57-22b2-4e07-ee5a-0ba5ed894da9"
      },
      "source": [
        "# Merge tags belonging to one article\r\n",
        "tags['Tag'] = tags['Tag'].astype(str)\r\n",
        "grouped_tags = tags.groupby(\"Id\")['Tag'].apply(lambda tags: '&'.join(tags))\r\n",
        "grouped_tags.head(5)"
      ],
      "execution_count": null,
      "outputs": [
        {
          "output_type": "execute_result",
          "data": {
            "text/plain": [
              "Id\n",
              "80                            flex&actionscript-3&air\n",
              "90       svn&tortoisesvn&branch&branching-and-merging\n",
              "120                               sql&asp.net&sitemap\n",
              "180    algorithm&language-agnostic&colors&color-space\n",
              "260           c#&.net&scripting&compiler-construction\n",
              "Name: Tag, dtype: object"
            ]
          },
          "metadata": {
            "tags": []
          },
          "execution_count": 10
        }
      ]
    },
    {
      "cell_type": "code",
      "metadata": {
        "colab": {
          "base_uri": "https://localhost:8080/",
          "height": 206
        },
        "id": "73L5HaqBkqVQ",
        "outputId": "b7903eb1-4d37-42af-8b00-71c79313b9fd"
      },
      "source": [
        "grouped_tags.reset_index()\r\n",
        "grouped_tags_final = pd.DataFrame({'Id':grouped_tags.index, 'Tags':grouped_tags.values})\r\n",
        "grouped_tags_final.head(5)"
      ],
      "execution_count": null,
      "outputs": [
        {
          "output_type": "execute_result",
          "data": {
            "text/html": [
              "<div>\n",
              "<style scoped>\n",
              "    .dataframe tbody tr th:only-of-type {\n",
              "        vertical-align: middle;\n",
              "    }\n",
              "\n",
              "    .dataframe tbody tr th {\n",
              "        vertical-align: top;\n",
              "    }\n",
              "\n",
              "    .dataframe thead th {\n",
              "        text-align: right;\n",
              "    }\n",
              "</style>\n",
              "<table border=\"1\" class=\"dataframe\">\n",
              "  <thead>\n",
              "    <tr style=\"text-align: right;\">\n",
              "      <th></th>\n",
              "      <th>Id</th>\n",
              "      <th>Tags</th>\n",
              "    </tr>\n",
              "  </thead>\n",
              "  <tbody>\n",
              "    <tr>\n",
              "      <th>0</th>\n",
              "      <td>80</td>\n",
              "      <td>flex&amp;actionscript-3&amp;air</td>\n",
              "    </tr>\n",
              "    <tr>\n",
              "      <th>1</th>\n",
              "      <td>90</td>\n",
              "      <td>svn&amp;tortoisesvn&amp;branch&amp;branching-and-merging</td>\n",
              "    </tr>\n",
              "    <tr>\n",
              "      <th>2</th>\n",
              "      <td>120</td>\n",
              "      <td>sql&amp;asp.net&amp;sitemap</td>\n",
              "    </tr>\n",
              "    <tr>\n",
              "      <th>3</th>\n",
              "      <td>180</td>\n",
              "      <td>algorithm&amp;language-agnostic&amp;colors&amp;color-space</td>\n",
              "    </tr>\n",
              "    <tr>\n",
              "      <th>4</th>\n",
              "      <td>260</td>\n",
              "      <td>c#&amp;.net&amp;scripting&amp;compiler-construction</td>\n",
              "    </tr>\n",
              "  </tbody>\n",
              "</table>\n",
              "</div>"
            ],
            "text/plain": [
              "    Id                                            Tags\n",
              "0   80                         flex&actionscript-3&air\n",
              "1   90    svn&tortoisesvn&branch&branching-and-merging\n",
              "2  120                             sql&asp.net&sitemap\n",
              "3  180  algorithm&language-agnostic&colors&color-space\n",
              "4  260         c#&.net&scripting&compiler-construction"
            ]
          },
          "metadata": {
            "tags": []
          },
          "execution_count": 11
        }
      ]
    },
    {
      "cell_type": "code",
      "metadata": {
        "colab": {
          "base_uri": "https://localhost:8080/",
          "height": 206
        },
        "id": "1IgmfChhk2i2",
        "outputId": "4314a009-e98e-4e7b-9257-1f3cb0bdbc31"
      },
      "source": [
        "# Merge dataframes\r\n",
        "df.drop(columns=['OwnerUserId', 'CreationDate', 'ClosedDate'], inplace=True)\r\n",
        "df = df.merge(grouped_tags_final, on='Id')\r\n",
        "df.head(5)"
      ],
      "execution_count": null,
      "outputs": [
        {
          "output_type": "execute_result",
          "data": {
            "text/html": [
              "<div>\n",
              "<style scoped>\n",
              "    .dataframe tbody tr th:only-of-type {\n",
              "        vertical-align: middle;\n",
              "    }\n",
              "\n",
              "    .dataframe tbody tr th {\n",
              "        vertical-align: top;\n",
              "    }\n",
              "\n",
              "    .dataframe thead th {\n",
              "        text-align: right;\n",
              "    }\n",
              "</style>\n",
              "<table border=\"1\" class=\"dataframe\">\n",
              "  <thead>\n",
              "    <tr style=\"text-align: right;\">\n",
              "      <th></th>\n",
              "      <th>Id</th>\n",
              "      <th>Score</th>\n",
              "      <th>Title</th>\n",
              "      <th>Body</th>\n",
              "      <th>Tags</th>\n",
              "    </tr>\n",
              "  </thead>\n",
              "  <tbody>\n",
              "    <tr>\n",
              "      <th>0</th>\n",
              "      <td>80</td>\n",
              "      <td>26</td>\n",
              "      <td>SQLStatement.execute() - multiple queries in o...</td>\n",
              "      <td>&lt;p&gt;I've written a database generation script i...</td>\n",
              "      <td>flex&amp;actionscript-3&amp;air</td>\n",
              "    </tr>\n",
              "    <tr>\n",
              "      <th>1</th>\n",
              "      <td>90</td>\n",
              "      <td>144</td>\n",
              "      <td>Good branching and merging tutorials for Torto...</td>\n",
              "      <td>&lt;p&gt;Are there any really good tutorials explain...</td>\n",
              "      <td>svn&amp;tortoisesvn&amp;branch&amp;branching-and-merging</td>\n",
              "    </tr>\n",
              "    <tr>\n",
              "      <th>2</th>\n",
              "      <td>120</td>\n",
              "      <td>21</td>\n",
              "      <td>ASP.NET Site Maps</td>\n",
              "      <td>&lt;p&gt;Has anyone got experience creating &lt;strong&gt;...</td>\n",
              "      <td>sql&amp;asp.net&amp;sitemap</td>\n",
              "    </tr>\n",
              "    <tr>\n",
              "      <th>3</th>\n",
              "      <td>180</td>\n",
              "      <td>53</td>\n",
              "      <td>Function for creating color wheels</td>\n",
              "      <td>&lt;p&gt;This is something I've pseudo-solved many t...</td>\n",
              "      <td>algorithm&amp;language-agnostic&amp;colors&amp;color-space</td>\n",
              "    </tr>\n",
              "    <tr>\n",
              "      <th>4</th>\n",
              "      <td>260</td>\n",
              "      <td>49</td>\n",
              "      <td>Adding scripting functionality to .NET applica...</td>\n",
              "      <td>&lt;p&gt;I have a little game written in C#. It uses...</td>\n",
              "      <td>c#&amp;.net&amp;scripting&amp;compiler-construction</td>\n",
              "    </tr>\n",
              "  </tbody>\n",
              "</table>\n",
              "</div>"
            ],
            "text/plain": [
              "    Id  ...                                            Tags\n",
              "0   80  ...                         flex&actionscript-3&air\n",
              "1   90  ...    svn&tortoisesvn&branch&branching-and-merging\n",
              "2  120  ...                             sql&asp.net&sitemap\n",
              "3  180  ...  algorithm&language-agnostic&colors&color-space\n",
              "4  260  ...         c#&.net&scripting&compiler-construction\n",
              "\n",
              "[5 rows x 5 columns]"
            ]
          },
          "metadata": {
            "tags": []
          },
          "execution_count": 12
        }
      ]
    },
    {
      "cell_type": "code",
      "metadata": {
        "colab": {
          "base_uri": "https://localhost:8080/"
        },
        "id": "foDK-o60k_3Z",
        "outputId": "90977a53-c2db-46b7-995b-53a530c98edd"
      },
      "source": [
        "# Remove Questions with low score (bad quality)\r\n",
        "new_df = df[df['Score']>5]\r\n",
        "new_df.shape, new_df['Body'][0]"
      ],
      "execution_count": null,
      "outputs": [
        {
          "output_type": "execute_result",
          "data": {
            "text/plain": [
              "((72950, 5),\n",
              " '<p>I\\'ve written a database generation script in <a href=\"http://en.wikipedia.org/wiki/SQL\">SQL</a> and want to execute it in my <a href=\"http://en.wikipedia.org/wiki/Adobe_Integrated_Runtime\">Adobe AIR</a> application:</p>\\n\\n<pre><code>Create Table tRole (\\n      roleID integer Primary Key\\n      ,roleName varchar(40)\\n);\\nCreate Table tFile (\\n    fileID integer Primary Key\\n    ,fileName varchar(50)\\n    ,fileDescription varchar(500)\\n    ,thumbnailID integer\\n    ,fileFormatID integer\\n    ,categoryID integer\\n    ,isFavorite boolean\\n    ,dateAdded date\\n    ,globalAccessCount integer\\n    ,lastAccessTime date\\n    ,downloadComplete boolean\\n    ,isNew boolean\\n    ,isSpotlight boolean\\n    ,duration varchar(30)\\n);\\nCreate Table tCategory (\\n    categoryID integer Primary Key\\n    ,categoryName varchar(50)\\n    ,parent_categoryID integer\\n);\\n...\\n</code></pre>\\n\\n<p>I execute this in Adobe AIR using the following methods:</p>\\n\\n<pre><code>public static function RunSqlFromFile(fileName:String):void {\\n    var file:File = File.applicationDirectory.resolvePath(fileName);\\n    var stream:FileStream = new FileStream();\\n    stream.open(file, FileMode.READ)\\n    var strSql:String = stream.readUTFBytes(stream.bytesAvailable);\\n    NonQuery(strSql);\\n}\\n\\npublic static function NonQuery(strSQL:String):void\\n{\\n    var sqlConnection:SQLConnection = new SQLConnection();\\n    sqlConnection.open(File.applicationStorageDirectory.resolvePath(DBPATH);\\n    var sqlStatement:SQLStatement = new SQLStatement();\\n    sqlStatement.text = strSQL;\\n    sqlStatement.sqlConnection = sqlConnection;\\n    try\\n    {\\n        sqlStatement.execute();\\n    }\\n    catch (error:SQLError)\\n    {\\n        Alert.show(error.toString());\\n    }\\n}\\n</code></pre>\\n\\n<p>No errors are generated, however only <code>tRole</code> exists. It seems that it only looks at the first query (up to the semicolon- if I remove it, the query fails). Is there a way to call multiple queries in one statement?</p>\\n')"
            ]
          },
          "metadata": {
            "tags": []
          },
          "execution_count": 13
        }
      ]
    },
    {
      "cell_type": "markdown",
      "metadata": {
        "id": "YNEbglZPl1z6"
      },
      "source": [
        "# Dataset preprocessing"
      ]
    },
    {
      "cell_type": "code",
      "metadata": {
        "colab": {
          "base_uri": "https://localhost:8080/"
        },
        "id": "CeIBI7rEmPao",
        "outputId": "88daa3d6-185b-42a8-c01f-15b87d5ece6f"
      },
      "source": [
        "!pip install sklearn"
      ],
      "execution_count": null,
      "outputs": [
        {
          "output_type": "stream",
          "text": [
            "Requirement already satisfied: sklearn in /usr/local/lib/python3.6/dist-packages (0.0)\n",
            "Requirement already satisfied: scikit-learn in /usr/local/lib/python3.6/dist-packages (from sklearn) (0.22.2.post1)\n",
            "Requirement already satisfied: joblib>=0.11 in /usr/local/lib/python3.6/dist-packages (from scikit-learn->sklearn) (1.0.0)\n",
            "Requirement already satisfied: scipy>=0.17.0 in /usr/local/lib/python3.6/dist-packages (from scikit-learn->sklearn) (1.4.1)\n",
            "Requirement already satisfied: numpy>=1.11.0 in /usr/local/lib/python3.6/dist-packages (from scikit-learn->sklearn) (1.19.5)\n"
          ],
          "name": "stdout"
        }
      ]
    },
    {
      "cell_type": "code",
      "metadata": {
        "colab": {
          "base_uri": "https://localhost:8080/"
        },
        "id": "bdQdKi0h-CnV",
        "outputId": "e90be040-547f-4886-d99c-5082f9204be0"
      },
      "source": [
        "new_df.dropna(subset=['Tags'], inplace=True)\r\n",
        "new_df.shape"
      ],
      "execution_count": null,
      "outputs": [
        {
          "output_type": "stream",
          "text": [
            "/usr/local/lib/python3.6/dist-packages/ipykernel_launcher.py:1: SettingWithCopyWarning: \n",
            "A value is trying to be set on a copy of a slice from a DataFrame\n",
            "\n",
            "See the caveats in the documentation: https://pandas.pydata.org/pandas-docs/stable/user_guide/indexing.html#returning-a-view-versus-a-copy\n",
            "  \"\"\"Entry point for launching an IPython kernel.\n"
          ],
          "name": "stderr"
        },
        {
          "output_type": "execute_result",
          "data": {
            "text/plain": [
              "(72950, 5)"
            ]
          },
          "metadata": {
            "tags": []
          },
          "execution_count": 15
        }
      ]
    },
    {
      "cell_type": "code",
      "metadata": {
        "colab": {
          "base_uri": "https://localhost:8080/"
        },
        "id": "bT40TwtJZiKR",
        "outputId": "89201076-54f2-44d1-e9ec-fd6e6e8af17f"
      },
      "source": [
        "!pip install beautifulsoup4"
      ],
      "execution_count": null,
      "outputs": [
        {
          "output_type": "stream",
          "text": [
            "Requirement already satisfied: beautifulsoup4 in /usr/local/lib/python3.6/dist-packages (4.6.3)\n"
          ],
          "name": "stdout"
        }
      ]
    },
    {
      "cell_type": "code",
      "metadata": {
        "colab": {
          "base_uri": "https://localhost:8080/",
          "height": 181
        },
        "id": "A8qNv3HHZ4lP",
        "outputId": "a3a357d1-242b-48c1-ece2-1d55d1f07f47"
      },
      "source": [
        "# Remove html tags\r\n",
        "from bs4 import BeautifulSoup\r\n",
        "import re\r\n",
        "\r\n",
        "def clean_text(text):\r\n",
        "  text = text.lower()\r\n",
        "  text = re.sub('<code>(.|\\n)*?<\\/code>', '', text)\r\n",
        "  text = BeautifulSoup(text).get_text()\r\n",
        "  text = re.sub('\\n', ' ', text)\r\n",
        "  return text\r\n",
        "\r\n",
        "new_df['Body'] = new_df['Body'].apply(lambda x: clean_text(x)) \r\n",
        "new_df['Body'][0]"
      ],
      "execution_count": null,
      "outputs": [
        {
          "output_type": "stream",
          "text": [
            "/usr/local/lib/python3.6/dist-packages/ipykernel_launcher.py:12: SettingWithCopyWarning: \n",
            "A value is trying to be set on a copy of a slice from a DataFrame.\n",
            "Try using .loc[row_indexer,col_indexer] = value instead\n",
            "\n",
            "See the caveats in the documentation: https://pandas.pydata.org/pandas-docs/stable/user_guide/indexing.html#returning-a-view-versus-a-copy\n",
            "  if sys.path[0] == '':\n"
          ],
          "name": "stderr"
        },
        {
          "output_type": "execute_result",
          "data": {
            "application/vnd.google.colaboratory.intrinsic+json": {
              "type": "string"
            },
            "text/plain": [
              "\"i've written a database generation script in sql and want to execute it in my adobe air application:  i execute this in adobe air using the following methods:  no errors are generated, however only  exists. it seems that it only looks at the first query (up to the semicolon- if i remove it, the query fails). is there a way to call multiple queries in one statement? \""
            ]
          },
          "metadata": {
            "tags": []
          },
          "execution_count": 17
        }
      ]
    },
    {
      "cell_type": "code",
      "metadata": {
        "colab": {
          "base_uri": "https://localhost:8080/",
          "height": 181
        },
        "id": "tE4buDj-OwkA",
        "outputId": "15756bf3-6c9e-42e8-a1ba-a4e2277a6230"
      },
      "source": [
        "# Merge title with body\r\n",
        "new_df['Body'] = new_df[['Title', 'Body']].agg(' '.join, axis=1)\r\n",
        "new_df['Body'][0]"
      ],
      "execution_count": null,
      "outputs": [
        {
          "output_type": "stream",
          "text": [
            "/usr/local/lib/python3.6/dist-packages/ipykernel_launcher.py:2: SettingWithCopyWarning: \n",
            "A value is trying to be set on a copy of a slice from a DataFrame.\n",
            "Try using .loc[row_indexer,col_indexer] = value instead\n",
            "\n",
            "See the caveats in the documentation: https://pandas.pydata.org/pandas-docs/stable/user_guide/indexing.html#returning-a-view-versus-a-copy\n",
            "  \n"
          ],
          "name": "stderr"
        },
        {
          "output_type": "execute_result",
          "data": {
            "application/vnd.google.colaboratory.intrinsic+json": {
              "type": "string"
            },
            "text/plain": [
              "\"SQLStatement.execute() - multiple queries in one statement i've written a database generation script in sql and want to execute it in my adobe air application:  i execute this in adobe air using the following methods:  no errors are generated, however only  exists. it seems that it only looks at the first query (up to the semicolon- if i remove it, the query fails). is there a way to call multiple queries in one statement? \""
            ]
          },
          "metadata": {
            "tags": []
          },
          "execution_count": 18
        }
      ]
    },
    {
      "cell_type": "markdown",
      "metadata": {
        "id": "LQM2Vqs_TMkk"
      },
      "source": [
        "# Main modeling methods"
      ]
    },
    {
      "cell_type": "code",
      "metadata": {
        "colab": {
          "base_uri": "https://localhost:8080/"
        },
        "id": "i7OyOJWvFisq",
        "outputId": "0f5a1d09-a7a0-420c-ac13-bc92bbaac423"
      },
      "source": [
        "!pip install sentence-transformers"
      ],
      "execution_count": null,
      "outputs": [
        {
          "output_type": "stream",
          "text": [
            "Collecting sentence-transformers\n",
            "\u001b[?25l  Downloading https://files.pythonhosted.org/packages/6a/e2/84d6acfcee2d83164149778a33b6bdd1a74e1bcb59b2b2cd1b861359b339/sentence-transformers-0.4.1.2.tar.gz (64kB)\n",
            "\u001b[K     |████████████████████████████████| 71kB 3.8MB/s \n",
            "\u001b[?25hCollecting transformers<5.0.0,>=3.1.0\n",
            "\u001b[?25l  Downloading https://files.pythonhosted.org/packages/cd/40/866cbfac4601e0f74c7303d533a9c5d4a53858bd402e08e3e294dd271f25/transformers-4.2.1-py3-none-any.whl (1.8MB)\n",
            "\u001b[K     |████████████████████████████████| 1.8MB 9.4MB/s \n",
            "\u001b[?25hRequirement already satisfied: tqdm in /usr/local/lib/python3.6/dist-packages (from sentence-transformers) (4.41.1)\n",
            "Requirement already satisfied: torch>=1.6.0 in /usr/local/lib/python3.6/dist-packages (from sentence-transformers) (1.7.0+cu101)\n",
            "Requirement already satisfied: numpy in /usr/local/lib/python3.6/dist-packages (from sentence-transformers) (1.19.5)\n",
            "Requirement already satisfied: scikit-learn in /usr/local/lib/python3.6/dist-packages (from sentence-transformers) (0.22.2.post1)\n",
            "Requirement already satisfied: scipy in /usr/local/lib/python3.6/dist-packages (from sentence-transformers) (1.4.1)\n",
            "Requirement already satisfied: nltk in /usr/local/lib/python3.6/dist-packages (from sentence-transformers) (3.2.5)\n",
            "Collecting sentencepiece\n",
            "\u001b[?25l  Downloading https://files.pythonhosted.org/packages/14/67/e42bd1181472c95c8cda79305df848264f2a7f62740995a46945d9797b67/sentencepiece-0.1.95-cp36-cp36m-manylinux2014_x86_64.whl (1.2MB)\n",
            "\u001b[K     |████████████████████████████████| 1.2MB 44.8MB/s \n",
            "\u001b[?25hRequirement already satisfied: filelock in /usr/local/lib/python3.6/dist-packages (from transformers<5.0.0,>=3.1.0->sentence-transformers) (3.0.12)\n",
            "Requirement already satisfied: packaging in /usr/local/lib/python3.6/dist-packages (from transformers<5.0.0,>=3.1.0->sentence-transformers) (20.8)\n",
            "Requirement already satisfied: requests in /usr/local/lib/python3.6/dist-packages (from transformers<5.0.0,>=3.1.0->sentence-transformers) (2.23.0)\n",
            "Requirement already satisfied: regex!=2019.12.17 in /usr/local/lib/python3.6/dist-packages (from transformers<5.0.0,>=3.1.0->sentence-transformers) (2019.12.20)\n",
            "Collecting sacremoses\n",
            "\u001b[?25l  Downloading https://files.pythonhosted.org/packages/7d/34/09d19aff26edcc8eb2a01bed8e98f13a1537005d31e95233fd48216eed10/sacremoses-0.0.43.tar.gz (883kB)\n",
            "\u001b[K     |████████████████████████████████| 890kB 41.3MB/s \n",
            "\u001b[?25hRequirement already satisfied: dataclasses; python_version < \"3.7\" in /usr/local/lib/python3.6/dist-packages (from transformers<5.0.0,>=3.1.0->sentence-transformers) (0.8)\n",
            "Collecting tokenizers==0.9.4\n",
            "\u001b[?25l  Downloading https://files.pythonhosted.org/packages/0f/1c/e789a8b12e28be5bc1ce2156cf87cb522b379be9cadc7ad8091a4cc107c4/tokenizers-0.9.4-cp36-cp36m-manylinux2010_x86_64.whl (2.9MB)\n",
            "\u001b[K     |████████████████████████████████| 2.9MB 40.1MB/s \n",
            "\u001b[?25hRequirement already satisfied: importlib-metadata; python_version < \"3.8\" in /usr/local/lib/python3.6/dist-packages (from transformers<5.0.0,>=3.1.0->sentence-transformers) (3.3.0)\n",
            "Requirement already satisfied: typing-extensions in /usr/local/lib/python3.6/dist-packages (from torch>=1.6.0->sentence-transformers) (3.7.4.3)\n",
            "Requirement already satisfied: future in /usr/local/lib/python3.6/dist-packages (from torch>=1.6.0->sentence-transformers) (0.16.0)\n",
            "Requirement already satisfied: joblib>=0.11 in /usr/local/lib/python3.6/dist-packages (from scikit-learn->sentence-transformers) (1.0.0)\n",
            "Requirement already satisfied: six in /usr/local/lib/python3.6/dist-packages (from nltk->sentence-transformers) (1.15.0)\n",
            "Requirement already satisfied: pyparsing>=2.0.2 in /usr/local/lib/python3.6/dist-packages (from packaging->transformers<5.0.0,>=3.1.0->sentence-transformers) (2.4.7)\n",
            "Requirement already satisfied: urllib3!=1.25.0,!=1.25.1,<1.26,>=1.21.1 in /usr/local/lib/python3.6/dist-packages (from requests->transformers<5.0.0,>=3.1.0->sentence-transformers) (1.24.3)\n",
            "Requirement already satisfied: chardet<4,>=3.0.2 in /usr/local/lib/python3.6/dist-packages (from requests->transformers<5.0.0,>=3.1.0->sentence-transformers) (3.0.4)\n",
            "Requirement already satisfied: idna<3,>=2.5 in /usr/local/lib/python3.6/dist-packages (from requests->transformers<5.0.0,>=3.1.0->sentence-transformers) (2.10)\n",
            "Requirement already satisfied: certifi>=2017.4.17 in /usr/local/lib/python3.6/dist-packages (from requests->transformers<5.0.0,>=3.1.0->sentence-transformers) (2020.12.5)\n",
            "Requirement already satisfied: click in /usr/local/lib/python3.6/dist-packages (from sacremoses->transformers<5.0.0,>=3.1.0->sentence-transformers) (7.1.2)\n",
            "Requirement already satisfied: zipp>=0.5 in /usr/local/lib/python3.6/dist-packages (from importlib-metadata; python_version < \"3.8\"->transformers<5.0.0,>=3.1.0->sentence-transformers) (3.4.0)\n",
            "Building wheels for collected packages: sentence-transformers, sacremoses\n",
            "  Building wheel for sentence-transformers (setup.py) ... \u001b[?25l\u001b[?25hdone\n",
            "  Created wheel for sentence-transformers: filename=sentence_transformers-0.4.1.2-cp36-none-any.whl size=103068 sha256=57c653be29cab4a4b7d1f3c9844dee2f0a1b8e448d0cd765b25a416af80e30c9\n",
            "  Stored in directory: /root/.cache/pip/wheels/3d/33/d1/5703dd56199c09d4a1b41e0c07fb4e7765a84d787cbdc48ac3\n",
            "  Building wheel for sacremoses (setup.py) ... \u001b[?25l\u001b[?25hdone\n",
            "  Created wheel for sacremoses: filename=sacremoses-0.0.43-cp36-none-any.whl size=893261 sha256=4bb642131465fb895ef52fdf8ff3d7d597a2c8bcafea1c046e67ea4f786eb537\n",
            "  Stored in directory: /root/.cache/pip/wheels/29/3c/fd/7ce5c3f0666dab31a50123635e6fb5e19ceb42ce38d4e58f45\n",
            "Successfully built sentence-transformers sacremoses\n",
            "Installing collected packages: sacremoses, tokenizers, transformers, sentencepiece, sentence-transformers\n",
            "Successfully installed sacremoses-0.0.43 sentence-transformers-0.4.1.2 sentencepiece-0.1.95 tokenizers-0.9.4 transformers-4.2.1\n"
          ],
          "name": "stdout"
        }
      ]
    },
    {
      "cell_type": "code",
      "metadata": {
        "id": "phV4iXmMaiqH"
      },
      "source": [
        "# Form n-grams\r\n",
        "from sklearn.feature_extraction.text import CountVectorizer\r\n",
        "from sklearn.feature_extraction.text import ENGLISH_STOP_WORDS\r\n",
        "from sentence_transformers import SentenceTransformer\r\n",
        "from sklearn.metrics.pairwise import cosine_similarity\r\n",
        "\r\n",
        "n_gram_range = (1, 1)\r\n",
        "top_n = 5\r\n",
        "\r\n",
        "def predict_keywords(doc, model = 'distilbert-base-nli-mean-tokens'):\r\n",
        "  count = CountVectorizer(ngram_range=n_gram_range, stop_words=ENGLISH_STOP_WORDS).fit([doc])\r\n",
        "  candidates = count.get_feature_names()\r\n",
        "\r\n",
        "  model = SentenceTransformer(model)\r\n",
        "  doc_embedding = model.encode([doc])\r\n",
        "  candidate_embeddings = model.encode(candidates)\r\n",
        "  distances = cosine_similarity(doc_embedding, candidate_embeddings)\r\n",
        "  keywords = [candidates[index] for index in distances.argsort()[0][-top_n:]]\r\n",
        "  return keywords"
      ],
      "execution_count": null,
      "outputs": []
    },
    {
      "cell_type": "markdown",
      "metadata": {
        "id": "dUY6HUvwTf5H"
      },
      "source": [
        "# Evaluation"
      ]
    },
    {
      "cell_type": "code",
      "metadata": {
        "id": "YDWArpPeqVVA"
      },
      "source": [
        "# Evaluation\r\n",
        "from operator import eq \r\n",
        "\r\n",
        "def compute_diff(expected_keywords, actual_keywords):\r\n",
        "  '''\r\n",
        "  true positive\r\n",
        "  true negative - 0  # N tags - (true positive + false positive)\r\n",
        "  false positive - experts do not have, but we have\r\n",
        "  false negative - have experts, but we do not have\r\n",
        "  '''\r\n",
        "  expected_keywords = set(expected_keywords)\r\n",
        "  tp = len(expected_keywords.intersection(actual_keywords))\r\n",
        "  fp = len(actual_keywords) - tp\r\n",
        "  fn = len(expected_keywords) - tp\r\n",
        "  return (tp, fp, fn)\r\n",
        "\r\n",
        "def evaluate(tp, fp, fn):\r\n",
        "  precision = tp / (tp + fp)\r\n",
        "  recall = tp / (tp + fn)\r\n",
        "  f1 = 2 * (precision * recall) / (precision + recall) if (precision != 0 or recall != 0) else 0.0\r\n",
        "  return (precision, recall, f1)"
      ],
      "execution_count": null,
      "outputs": []
    },
    {
      "cell_type": "code",
      "metadata": {
        "colab": {
          "base_uri": "https://localhost:8080/",
          "height": 206
        },
        "id": "yTcqDfoDJeJ7",
        "outputId": "2904890c-3ef0-4a46-de47-aadf49426624"
      },
      "source": [
        "test_df = new_df.sample(n=1000)\r\n",
        "test_df.drop(columns=['Id', 'Score', 'Title'], inplace=True)\r\n",
        "test_df.head(5)"
      ],
      "execution_count": null,
      "outputs": [
        {
          "output_type": "execute_result",
          "data": {
            "text/html": [
              "<div>\n",
              "<style scoped>\n",
              "    .dataframe tbody tr th:only-of-type {\n",
              "        vertical-align: middle;\n",
              "    }\n",
              "\n",
              "    .dataframe tbody tr th {\n",
              "        vertical-align: top;\n",
              "    }\n",
              "\n",
              "    .dataframe thead th {\n",
              "        text-align: right;\n",
              "    }\n",
              "</style>\n",
              "<table border=\"1\" class=\"dataframe\">\n",
              "  <thead>\n",
              "    <tr style=\"text-align: right;\">\n",
              "      <th></th>\n",
              "      <th>Body</th>\n",
              "      <th>Tags</th>\n",
              "    </tr>\n",
              "  </thead>\n",
              "  <tbody>\n",
              "    <tr>\n",
              "      <th>28524</th>\n",
              "      <td>Blogging with R: easy way to embed R in a blog...</td>\n",
              "      <td>wordpress&amp;r&amp;blogs</td>\n",
              "    </tr>\n",
              "    <tr>\n",
              "      <th>9057</th>\n",
              "      <td>How to alloc a dynamic typed object i have see...</td>\n",
              "      <td>objective-c&amp;dynamic&amp;allocation</td>\n",
              "    </tr>\n",
              "    <tr>\n",
              "      <th>341542</th>\n",
              "      <td>Find rank of a decimal number based on functio...</td>\n",
              "      <td>c&amp;performance&amp;algorithm&amp;bit-manipulation&amp;time-...</td>\n",
              "    </tr>\n",
              "    <tr>\n",
              "      <th>345808</th>\n",
              "      <td>Why some arithmetic operations take more time ...</td>\n",
              "      <td>c&amp;performance&amp;time</td>\n",
              "    </tr>\n",
              "    <tr>\n",
              "      <th>32561</th>\n",
              "      <td>Strange Java cast exception. Why can't I cast ...</td>\n",
              "      <td>java&amp;casting</td>\n",
              "    </tr>\n",
              "  </tbody>\n",
              "</table>\n",
              "</div>"
            ],
            "text/plain": [
              "                                                     Body                                               Tags\n",
              "28524   Blogging with R: easy way to embed R in a blog...                                  wordpress&r&blogs\n",
              "9057    How to alloc a dynamic typed object i have see...                     objective-c&dynamic&allocation\n",
              "341542  Find rank of a decimal number based on functio...  c&performance&algorithm&bit-manipulation&time-...\n",
              "345808  Why some arithmetic operations take more time ...                                 c&performance&time\n",
              "32561   Strange Java cast exception. Why can't I cast ...                                       java&casting"
            ]
          },
          "metadata": {
            "tags": []
          },
          "execution_count": 22
        }
      ]
    },
    {
      "cell_type": "code",
      "metadata": {
        "colab": {
          "background_save": true,
          "base_uri": "https://localhost:8080/"
        },
        "id": "O0wNg_DEJijr",
        "outputId": "015a634b-1e5a-4104-8669-e35809d49aca"
      },
      "source": [
        "tp = 0\r\n",
        "fp = 0\r\n",
        "fn = 0\r\n",
        "i = 0\r\n",
        "for index, row in test_df.iterrows():\r\n",
        "  expected_keywords = row['Tags'].split('&')\r\n",
        "  predicted_keywords = predict_keywords(row['Body'])\r\n",
        "  tmp_tp, tmp_fp, tmp_fn = compute_diff(expected_keywords, predicted_keywords)\r\n",
        "  tp += tmp_tp\r\n",
        "  fp += tmp_fp\r\n",
        "  fn += tmp_fn\r\n",
        "  i += 1\r\n",
        "  if (i % 100 == 0):\r\n",
        "    print('Executed iteration: ', i)\r\n",
        "  if (i == 1):\r\n",
        "    print('Expected keywords: ', expected_keywords, ' Predicted keywords: ', predicted_keywords)\r\n",
        "\r\n",
        "(tp, fp, fn)"
      ],
      "execution_count": null,
      "outputs": [
        {
          "output_type": "stream",
          "text": [
            "100%|██████████| 245M/245M [00:13<00:00, 17.9MB/s]\n"
          ],
          "name": "stderr"
        },
        {
          "output_type": "stream",
          "text": [
            "Expected keywords:  ['wordpress', 'r', 'blogs']  Predicted keywords:  ['wordpress', 'mediawiki', 'wiki', 'blog', 'blogging']\n",
            "Executed iteration:  100\n",
            "Executed iteration:  200\n",
            "Executed iteration:  300\n",
            "Executed iteration:  400\n",
            "Executed iteration:  500\n",
            "Executed iteration:  600\n",
            "Executed iteration:  700\n",
            "Executed iteration:  800\n",
            "Executed iteration:  900\n",
            "Executed iteration:  1000\n"
          ],
          "name": "stdout"
        },
        {
          "output_type": "execute_result",
          "data": {
            "text/plain": [
              "(692, 4304, 2352)"
            ]
          },
          "metadata": {
            "tags": []
          },
          "execution_count": 0
        }
      ]
    },
    {
      "cell_type": "code",
      "metadata": {
        "colab": {
          "background_save": true
        },
        "id": "mFyghTMRLpEm",
        "outputId": "baa0c3ee-28a2-48aa-c349-4f3ee8a4a36f"
      },
      "source": [
        "evaluate(tp, fp, fn)"
      ],
      "execution_count": null,
      "outputs": [
        {
          "output_type": "execute_result",
          "data": {
            "text/plain": [
              "(0.13851080864691753, 0.22733245729303547, 0.1721393034825871)"
            ]
          },
          "metadata": {
            "tags": []
          },
          "execution_count": 0
        }
      ]
    }
  ]
}