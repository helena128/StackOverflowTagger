{
  "nbformat": 4,
  "nbformat_minor": 0,
  "metadata": {
    "colab": {
      "name": "DT_NLP_Multiclass.ipynb",
      "provenance": [],
      "toc_visible": true
    },
    "kernelspec": {
      "name": "python3",
      "display_name": "Python 3"
    }
  },
  "cells": [
    {
      "cell_type": "markdown",
      "metadata": {
        "id": "b4rFtjHUNkxS"
      },
      "source": [
        "# Dataset creation"
      ]
    },
    {
      "cell_type": "code",
      "metadata": {
        "colab": {
          "base_uri": "https://localhost:8080/"
        },
        "id": "RciblLjkQshu",
        "outputId": "663f0675-a34e-4038-8074-ed617b0a2b2b"
      },
      "source": [
        "from google.colab import drive \r\n",
        "\r\n",
        "drive.mount('/content/gdrive', force_remount=True)"
      ],
      "execution_count": 1,
      "outputs": [
        {
          "output_type": "stream",
          "text": [
            "Mounted at /content/gdrive\n"
          ],
          "name": "stdout"
        }
      ]
    },
    {
      "cell_type": "code",
      "metadata": {
        "id": "zdkjnlOrQury"
      },
      "source": [
        "!mkdir -p input"
      ],
      "execution_count": 2,
      "outputs": []
    },
    {
      "cell_type": "code",
      "metadata": {
        "id": "drxmdpPvRCpU",
        "colab": {
          "base_uri": "https://localhost:8080/"
        },
        "outputId": "9321b1d9-2021-4010-80fe-98b959bfd2f6"
      },
      "source": [
        "!cp /content/gdrive/MyDrive/itmo_master/3/DT_NLP/dataset/*.csv input && ls -la"
      ],
      "execution_count": 3,
      "outputs": [
        {
          "output_type": "stream",
          "text": [
            "total 24\n",
            "drwxr-xr-x 1 root root 4096 Jan 12 19:16 .\n",
            "drwxr-xr-x 1 root root 4096 Jan 12 16:43 ..\n",
            "drwxr-xr-x 1 root root 4096 Jan  8 17:11 .config\n",
            "drwx------ 5 root root 4096 Jan 12 19:16 gdrive\n",
            "drwxr-xr-x 2 root root 4096 Jan 12 16:56 input\n",
            "drwxr-xr-x 1 root root 4096 Jan  6 18:10 sample_data\n"
          ],
          "name": "stdout"
        }
      ]
    },
    {
      "cell_type": "code",
      "metadata": {
        "id": "MXXWZmnEij5w"
      },
      "source": [
        "!cp /content/gdrive/MyDrive/itmo_master/3/DT_NLP/dataset/*.zip input"
      ],
      "execution_count": 4,
      "outputs": []
    },
    {
      "cell_type": "code",
      "metadata": {
        "colab": {
          "base_uri": "https://localhost:8080/"
        },
        "id": "ZaCYj75ujrxZ",
        "outputId": "b2e6dc51-4780-46ad-f282-307c6403af6b"
      },
      "source": [
        "!unzip input/Questions -d ./input/ "
      ],
      "execution_count": 5,
      "outputs": [
        {
          "output_type": "stream",
          "text": [
            "Archive:  input/Questions.zip\n",
            "replace ./input/Questions.csv? [y]es, [n]o, [A]ll, [N]one, [r]ename: n\n"
          ],
          "name": "stdout"
        }
      ]
    },
    {
      "cell_type": "code",
      "metadata": {
        "colab": {
          "base_uri": "https://localhost:8080/"
        },
        "id": "fpb391fOj7lJ",
        "outputId": "da019e08-597d-4692-c8b2-18299bd727f4"
      },
      "source": [
        "!ls -lRa ./input/"
      ],
      "execution_count": 6,
      "outputs": [
        {
          "output_type": "stream",
          "text": [
            "./input/:\n",
            "total 2522224\n",
            "drwxr-xr-x 2 root root       4096 Jan 12 16:56 .\n",
            "drwxr-xr-x 1 root root       4096 Jan 12 19:16 ..\n",
            "-rw-r--r-- 1 root root 1923682009 Oct  8  2019 Questions.csv\n",
            "-rw------- 1 root root  593576602 Jan 12 19:17 Questions.zip\n",
            "-rw------- 1 root root   65475836 Jan 12 19:16 Tags.csv\n"
          ],
          "name": "stdout"
        }
      ]
    },
    {
      "cell_type": "markdown",
      "metadata": {
        "id": "SvvTgZvBUt25"
      },
      "source": [
        "Prepare dataset"
      ]
    },
    {
      "cell_type": "code",
      "metadata": {
        "id": "7U6o44rjUxSn"
      },
      "source": [
        "import pandas as pd"
      ],
      "execution_count": 7,
      "outputs": []
    },
    {
      "cell_type": "code",
      "metadata": {
        "colab": {
          "base_uri": "https://localhost:8080/",
          "height": 293
        },
        "id": "X2xgTpYvVDzz",
        "outputId": "5457b75c-8d4f-4ecf-cc4d-1eeb658fa93e"
      },
      "source": [
        "# Read questions\r\n",
        "df = pd.read_csv(\"./input/Questions.csv\", encoding=\"ISO-8859-1\")\r\n",
        "df.head(5)"
      ],
      "execution_count": 8,
      "outputs": [
        {
          "output_type": "execute_result",
          "data": {
            "text/html": [
              "<div>\n",
              "<style scoped>\n",
              "    .dataframe tbody tr th:only-of-type {\n",
              "        vertical-align: middle;\n",
              "    }\n",
              "\n",
              "    .dataframe tbody tr th {\n",
              "        vertical-align: top;\n",
              "    }\n",
              "\n",
              "    .dataframe thead th {\n",
              "        text-align: right;\n",
              "    }\n",
              "</style>\n",
              "<table border=\"1\" class=\"dataframe\">\n",
              "  <thead>\n",
              "    <tr style=\"text-align: right;\">\n",
              "      <th></th>\n",
              "      <th>Id</th>\n",
              "      <th>OwnerUserId</th>\n",
              "      <th>CreationDate</th>\n",
              "      <th>ClosedDate</th>\n",
              "      <th>Score</th>\n",
              "      <th>Title</th>\n",
              "      <th>Body</th>\n",
              "    </tr>\n",
              "  </thead>\n",
              "  <tbody>\n",
              "    <tr>\n",
              "      <th>0</th>\n",
              "      <td>80</td>\n",
              "      <td>26.0</td>\n",
              "      <td>2008-08-01T13:57:07Z</td>\n",
              "      <td>NaN</td>\n",
              "      <td>26</td>\n",
              "      <td>SQLStatement.execute() - multiple queries in o...</td>\n",
              "      <td>&lt;p&gt;I've written a database generation script i...</td>\n",
              "    </tr>\n",
              "    <tr>\n",
              "      <th>1</th>\n",
              "      <td>90</td>\n",
              "      <td>58.0</td>\n",
              "      <td>2008-08-01T14:41:24Z</td>\n",
              "      <td>2012-12-26T03:45:49Z</td>\n",
              "      <td>144</td>\n",
              "      <td>Good branching and merging tutorials for Torto...</td>\n",
              "      <td>&lt;p&gt;Are there any really good tutorials explain...</td>\n",
              "    </tr>\n",
              "    <tr>\n",
              "      <th>2</th>\n",
              "      <td>120</td>\n",
              "      <td>83.0</td>\n",
              "      <td>2008-08-01T15:50:08Z</td>\n",
              "      <td>NaN</td>\n",
              "      <td>21</td>\n",
              "      <td>ASP.NET Site Maps</td>\n",
              "      <td>&lt;p&gt;Has anyone got experience creating &lt;strong&gt;...</td>\n",
              "    </tr>\n",
              "    <tr>\n",
              "      <th>3</th>\n",
              "      <td>180</td>\n",
              "      <td>2089740.0</td>\n",
              "      <td>2008-08-01T18:42:19Z</td>\n",
              "      <td>NaN</td>\n",
              "      <td>53</td>\n",
              "      <td>Function for creating color wheels</td>\n",
              "      <td>&lt;p&gt;This is something I've pseudo-solved many t...</td>\n",
              "    </tr>\n",
              "    <tr>\n",
              "      <th>4</th>\n",
              "      <td>260</td>\n",
              "      <td>91.0</td>\n",
              "      <td>2008-08-01T23:22:08Z</td>\n",
              "      <td>NaN</td>\n",
              "      <td>49</td>\n",
              "      <td>Adding scripting functionality to .NET applica...</td>\n",
              "      <td>&lt;p&gt;I have a little game written in C#. It uses...</td>\n",
              "    </tr>\n",
              "  </tbody>\n",
              "</table>\n",
              "</div>"
            ],
            "text/plain": [
              "    Id  ...                                               Body\n",
              "0   80  ...  <p>I've written a database generation script i...\n",
              "1   90  ...  <p>Are there any really good tutorials explain...\n",
              "2  120  ...  <p>Has anyone got experience creating <strong>...\n",
              "3  180  ...  <p>This is something I've pseudo-solved many t...\n",
              "4  260  ...  <p>I have a little game written in C#. It uses...\n",
              "\n",
              "[5 rows x 7 columns]"
            ]
          },
          "metadata": {
            "tags": []
          },
          "execution_count": 8
        }
      ]
    },
    {
      "cell_type": "code",
      "metadata": {
        "colab": {
          "base_uri": "https://localhost:8080/",
          "height": 206
        },
        "id": "yjLfM3QmVTIy",
        "outputId": "77fd1186-bb84-44a7-a0bd-e954d0672aad"
      },
      "source": [
        "# Read tags\r\n",
        "tags = pd.read_csv(\"./input/Tags.csv\", encoding=\"ISO-8859-1\", dtype={'Tag': str})\r\n",
        "tags.head(5)"
      ],
      "execution_count": 9,
      "outputs": [
        {
          "output_type": "execute_result",
          "data": {
            "text/html": [
              "<div>\n",
              "<style scoped>\n",
              "    .dataframe tbody tr th:only-of-type {\n",
              "        vertical-align: middle;\n",
              "    }\n",
              "\n",
              "    .dataframe tbody tr th {\n",
              "        vertical-align: top;\n",
              "    }\n",
              "\n",
              "    .dataframe thead th {\n",
              "        text-align: right;\n",
              "    }\n",
              "</style>\n",
              "<table border=\"1\" class=\"dataframe\">\n",
              "  <thead>\n",
              "    <tr style=\"text-align: right;\">\n",
              "      <th></th>\n",
              "      <th>Id</th>\n",
              "      <th>Tag</th>\n",
              "    </tr>\n",
              "  </thead>\n",
              "  <tbody>\n",
              "    <tr>\n",
              "      <th>0</th>\n",
              "      <td>80</td>\n",
              "      <td>flex</td>\n",
              "    </tr>\n",
              "    <tr>\n",
              "      <th>1</th>\n",
              "      <td>80</td>\n",
              "      <td>actionscript-3</td>\n",
              "    </tr>\n",
              "    <tr>\n",
              "      <th>2</th>\n",
              "      <td>80</td>\n",
              "      <td>air</td>\n",
              "    </tr>\n",
              "    <tr>\n",
              "      <th>3</th>\n",
              "      <td>90</td>\n",
              "      <td>svn</td>\n",
              "    </tr>\n",
              "    <tr>\n",
              "      <th>4</th>\n",
              "      <td>90</td>\n",
              "      <td>tortoisesvn</td>\n",
              "    </tr>\n",
              "  </tbody>\n",
              "</table>\n",
              "</div>"
            ],
            "text/plain": [
              "   Id             Tag\n",
              "0  80            flex\n",
              "1  80  actionscript-3\n",
              "2  80             air\n",
              "3  90             svn\n",
              "4  90     tortoisesvn"
            ]
          },
          "metadata": {
            "tags": []
          },
          "execution_count": 9
        }
      ]
    },
    {
      "cell_type": "code",
      "metadata": {
        "id": "gG_ONmwb67Rj"
      },
      "source": [
        "selected_tags = ['java','html','asp.net','c#','ruby-on-rails','jquery','mysql','php','ios','javascript','python','c','css','android','iphone','sql','objective-c','c++','angularjs','.net']\r\n"
      ],
      "execution_count": 10,
      "outputs": []
    },
    {
      "cell_type": "code",
      "metadata": {
        "id": "S8_ocG8574an"
      },
      "source": [
        "df.drop(columns=['OwnerUserId', 'CreationDate', 'ClosedDate'], inplace=True)"
      ],
      "execution_count": 11,
      "outputs": []
    },
    {
      "cell_type": "code",
      "metadata": {
        "colab": {
          "base_uri": "https://localhost:8080/"
        },
        "id": "pgtWFthj8LBq",
        "outputId": "7799d08b-a728-47d1-87eb-3e41fc9a424e"
      },
      "source": [
        "def get_tag(tags):\r\n",
        "  for tag in tags:\r\n",
        "    if tag in selected_tags:\r\n",
        "      return tag\r\n",
        "  return None\r\n",
        "\r\n",
        "tags['Tag'] = tags['Tag'].astype(str)\r\n",
        "grouped_tags = tags.groupby(\"Id\")['Tag'].apply(lambda tags: get_tag(tags))\r\n",
        "grouped_tags.head(5)"
      ],
      "execution_count": 12,
      "outputs": [
        {
          "output_type": "execute_result",
          "data": {
            "text/plain": [
              "Id\n",
              "80     None\n",
              "90     None\n",
              "120     sql\n",
              "180    None\n",
              "260      c#\n",
              "Name: Tag, dtype: object"
            ]
          },
          "metadata": {
            "tags": []
          },
          "execution_count": 12
        }
      ]
    },
    {
      "cell_type": "code",
      "metadata": {
        "colab": {
          "base_uri": "https://localhost:8080/"
        },
        "id": "ryC5CEWr8NCL",
        "outputId": "33fe2b2a-c110-467f-e65d-d90de1cdd5e6"
      },
      "source": [
        "grouped_tags = grouped_tags.dropna()\r\n",
        "grouped_tags.head(5), grouped_tags.shape"
      ],
      "execution_count": 13,
      "outputs": [
        {
          "output_type": "execute_result",
          "data": {
            "text/plain": [
              "(Id\n",
              " 120     sql\n",
              " 260      c#\n",
              " 330     c++\n",
              " 470    .net\n",
              " 650      c#\n",
              " Name: Tag, dtype: object, (850988,))"
            ]
          },
          "metadata": {
            "tags": []
          },
          "execution_count": 13
        }
      ]
    },
    {
      "cell_type": "code",
      "metadata": {
        "colab": {
          "base_uri": "https://localhost:8080/",
          "height": 237
        },
        "id": "iR758-Wi8SoV",
        "outputId": "de2d223c-41a4-42a2-d92d-1dd985e6895d"
      },
      "source": [
        "grouped_tags.reset_index()\r\n",
        "grouped_tags_final = pd.DataFrame({'Id':grouped_tags.index, 'Tags':grouped_tags})\r\n",
        "grouped_tags_final.drop(columns=['Id'], inplace=True)\r\n",
        "grouped_tags_final.head(5)"
      ],
      "execution_count": 14,
      "outputs": [
        {
          "output_type": "execute_result",
          "data": {
            "text/html": [
              "<div>\n",
              "<style scoped>\n",
              "    .dataframe tbody tr th:only-of-type {\n",
              "        vertical-align: middle;\n",
              "    }\n",
              "\n",
              "    .dataframe tbody tr th {\n",
              "        vertical-align: top;\n",
              "    }\n",
              "\n",
              "    .dataframe thead th {\n",
              "        text-align: right;\n",
              "    }\n",
              "</style>\n",
              "<table border=\"1\" class=\"dataframe\">\n",
              "  <thead>\n",
              "    <tr style=\"text-align: right;\">\n",
              "      <th></th>\n",
              "      <th>Tags</th>\n",
              "    </tr>\n",
              "    <tr>\n",
              "      <th>Id</th>\n",
              "      <th></th>\n",
              "    </tr>\n",
              "  </thead>\n",
              "  <tbody>\n",
              "    <tr>\n",
              "      <th>120</th>\n",
              "      <td>sql</td>\n",
              "    </tr>\n",
              "    <tr>\n",
              "      <th>260</th>\n",
              "      <td>c#</td>\n",
              "    </tr>\n",
              "    <tr>\n",
              "      <th>330</th>\n",
              "      <td>c++</td>\n",
              "    </tr>\n",
              "    <tr>\n",
              "      <th>470</th>\n",
              "      <td>.net</td>\n",
              "    </tr>\n",
              "    <tr>\n",
              "      <th>650</th>\n",
              "      <td>c#</td>\n",
              "    </tr>\n",
              "  </tbody>\n",
              "</table>\n",
              "</div>"
            ],
            "text/plain": [
              "     Tags\n",
              "Id       \n",
              "120   sql\n",
              "260    c#\n",
              "330   c++\n",
              "470  .net\n",
              "650    c#"
            ]
          },
          "metadata": {
            "tags": []
          },
          "execution_count": 14
        }
      ]
    },
    {
      "cell_type": "code",
      "metadata": {
        "colab": {
          "base_uri": "https://localhost:8080/",
          "height": 206
        },
        "id": "EdIvzwNj8uIw",
        "outputId": "4eb21bc0-1b4a-4de1-d2cd-57d554955ee5"
      },
      "source": [
        "df = df.merge(grouped_tags_final, on='Id')\r\n",
        "df.head(5)"
      ],
      "execution_count": 15,
      "outputs": [
        {
          "output_type": "execute_result",
          "data": {
            "text/html": [
              "<div>\n",
              "<style scoped>\n",
              "    .dataframe tbody tr th:only-of-type {\n",
              "        vertical-align: middle;\n",
              "    }\n",
              "\n",
              "    .dataframe tbody tr th {\n",
              "        vertical-align: top;\n",
              "    }\n",
              "\n",
              "    .dataframe thead th {\n",
              "        text-align: right;\n",
              "    }\n",
              "</style>\n",
              "<table border=\"1\" class=\"dataframe\">\n",
              "  <thead>\n",
              "    <tr style=\"text-align: right;\">\n",
              "      <th></th>\n",
              "      <th>Id</th>\n",
              "      <th>Score</th>\n",
              "      <th>Title</th>\n",
              "      <th>Body</th>\n",
              "      <th>Tags</th>\n",
              "    </tr>\n",
              "  </thead>\n",
              "  <tbody>\n",
              "    <tr>\n",
              "      <th>0</th>\n",
              "      <td>120</td>\n",
              "      <td>21</td>\n",
              "      <td>ASP.NET Site Maps</td>\n",
              "      <td>&lt;p&gt;Has anyone got experience creating &lt;strong&gt;...</td>\n",
              "      <td>sql</td>\n",
              "    </tr>\n",
              "    <tr>\n",
              "      <th>1</th>\n",
              "      <td>260</td>\n",
              "      <td>49</td>\n",
              "      <td>Adding scripting functionality to .NET applica...</td>\n",
              "      <td>&lt;p&gt;I have a little game written in C#. It uses...</td>\n",
              "      <td>c#</td>\n",
              "    </tr>\n",
              "    <tr>\n",
              "      <th>2</th>\n",
              "      <td>330</td>\n",
              "      <td>29</td>\n",
              "      <td>Should I use nested classes in this case?</td>\n",
              "      <td>&lt;p&gt;I am working on a collection of classes use...</td>\n",
              "      <td>c++</td>\n",
              "    </tr>\n",
              "    <tr>\n",
              "      <th>3</th>\n",
              "      <td>470</td>\n",
              "      <td>13</td>\n",
              "      <td>Homegrown consumption of web services</td>\n",
              "      <td>&lt;p&gt;I've been writing a few web services for a ...</td>\n",
              "      <td>.net</td>\n",
              "    </tr>\n",
              "    <tr>\n",
              "      <th>4</th>\n",
              "      <td>650</td>\n",
              "      <td>79</td>\n",
              "      <td>Automatically update version number</td>\n",
              "      <td>&lt;p&gt;I would like the version property of my app...</td>\n",
              "      <td>c#</td>\n",
              "    </tr>\n",
              "  </tbody>\n",
              "</table>\n",
              "</div>"
            ],
            "text/plain": [
              "    Id  Score  ...                                               Body  Tags\n",
              "0  120     21  ...  <p>Has anyone got experience creating <strong>...   sql\n",
              "1  260     49  ...  <p>I have a little game written in C#. It uses...    c#\n",
              "2  330     29  ...  <p>I am working on a collection of classes use...   c++\n",
              "3  470     13  ...  <p>I've been writing a few web services for a ...  .net\n",
              "4  650     79  ...  <p>I would like the version property of my app...    c#\n",
              "\n",
              "[5 rows x 5 columns]"
            ]
          },
          "metadata": {
            "tags": []
          },
          "execution_count": 15
        }
      ]
    },
    {
      "cell_type": "markdown",
      "metadata": {
        "id": "lFhPZY4v-mK7"
      },
      "source": [
        "# Preprocessing"
      ]
    },
    {
      "cell_type": "code",
      "metadata": {
        "colab": {
          "base_uri": "https://localhost:8080/"
        },
        "id": "jzSCF9NK_P7R",
        "outputId": "a607e5a7-bab9-4a37-c3fa-7830dfcb29ae"
      },
      "source": [
        "!pip install nltk\r\n",
        "!pip install beautifulsoup4"
      ],
      "execution_count": 18,
      "outputs": [
        {
          "output_type": "stream",
          "text": [
            "Requirement already satisfied: nltk in /usr/local/lib/python3.6/dist-packages (3.2.5)\n",
            "Requirement already satisfied: six in /usr/local/lib/python3.6/dist-packages (from nltk) (1.15.0)\n",
            "Requirement already satisfied: beautifulsoup4 in /usr/local/lib/python3.6/dist-packages (4.6.3)\n"
          ],
          "name": "stdout"
        }
      ]
    },
    {
      "cell_type": "code",
      "metadata": {
        "colab": {
          "base_uri": "https://localhost:8080/"
        },
        "id": "AiCS9oY3_gOQ",
        "outputId": "7dae6c3d-0c8c-4a71-b9dd-3ab373fb1107"
      },
      "source": [
        "!nltk.download('stopwords')"
      ],
      "execution_count": 20,
      "outputs": [
        {
          "output_type": "stream",
          "text": [
            "/bin/bash: -c: line 0: syntax error near unexpected token `'stopwords''\n",
            "/bin/bash: -c: line 0: `nltk.download('stopwords')'\n"
          ],
          "name": "stdout"
        }
      ]
    },
    {
      "cell_type": "code",
      "metadata": {
        "id": "b0uP9GUJ-qFL"
      },
      "source": [
        "from nltk.corpus import stopwords\r\n",
        "from bs4 import BeautifulSoup\r\n",
        "import re\r\n",
        "\r\n",
        "REPLACE_BY_SPACE_RE = re.compile('[/(){}\\[\\]\\|@,;]')\r\n",
        "BAD_SYMBOLS_RE = re.compile('[^0-9a-z #+_]')\r\n",
        "STOPWORDS = set(stopwords.words('english'))\r\n",
        "\r\n",
        "def clean_text(text):\r\n",
        "    text = BeautifulSoup(text, \"lxml\").text # HTML decoding\r\n",
        "    text = text.lower() # lowercase text\r\n",
        "    text = REPLACE_BY_SPACE_RE.sub(' ', text) # replace REPLACE_BY_SPACE_RE symbols by space in text\r\n",
        "    text = BAD_SYMBOLS_RE.sub('', text) # delete symbols which are in BAD_SYMBOLS_RE from text\r\n",
        "    text = ' '.join(word for word in text.split() if word not in STOPWORDS) # delete stopwors from text\r\n",
        "    text = re.sub('<code>(.|\\n)*?<\\/code>', '', text)\r\n",
        "    return text\r\n"
      ],
      "execution_count": 34,
      "outputs": []
    },
    {
      "cell_type": "code",
      "metadata": {
        "colab": {
          "base_uri": "https://localhost:8080/"
        },
        "id": "zpmWXtG_AOYV",
        "outputId": "0d40699e-84f2-413d-9d60-836ee62ef083"
      },
      "source": [
        "new_df = df\r\n",
        "new_df.dropna(subset=['Tags'], inplace=True)\r\n",
        "df.head(5), new_df.shape"
      ],
      "execution_count": 41,
      "outputs": [
        {
          "output_type": "execute_result",
          "data": {
            "text/plain": [
              "(    Id  Score  ...                                               Body  Tags\n",
              " 0  120     21  ...  <p>Has anyone got experience creating <strong>...   sql\n",
              " 1  260     49  ...  <p>I have a little game written in C#. It uses...    c#\n",
              " 2  330     29  ...  <p>I am working on a collection of classes use...   c++\n",
              " 3  470     13  ...  <p>I've been writing a few web services for a ...  .net\n",
              " 4  650     79  ...  <p>I would like the version property of my app...    c#\n",
              " \n",
              " [5 rows x 5 columns], (850988, 5))"
            ]
          },
          "metadata": {
            "tags": []
          },
          "execution_count": 41
        }
      ]
    },
    {
      "cell_type": "code",
      "metadata": {
        "colab": {
          "base_uri": "https://localhost:8080/",
          "height": 206
        },
        "id": "Sm-UsENc_jQ7",
        "outputId": "7e03e6e9-b246-4414-e694-c012f2336796"
      },
      "source": [
        "new_df = new_df.sample(n=20000)\r\n",
        "new_df['Body'] = new_df['Body'].apply(clean_text)\r\n",
        "new_df.head(5)"
      ],
      "execution_count": 42,
      "outputs": [
        {
          "output_type": "execute_result",
          "data": {
            "text/html": [
              "<div>\n",
              "<style scoped>\n",
              "    .dataframe tbody tr th:only-of-type {\n",
              "        vertical-align: middle;\n",
              "    }\n",
              "\n",
              "    .dataframe tbody tr th {\n",
              "        vertical-align: top;\n",
              "    }\n",
              "\n",
              "    .dataframe thead th {\n",
              "        text-align: right;\n",
              "    }\n",
              "</style>\n",
              "<table border=\"1\" class=\"dataframe\">\n",
              "  <thead>\n",
              "    <tr style=\"text-align: right;\">\n",
              "      <th></th>\n",
              "      <th>Id</th>\n",
              "      <th>Score</th>\n",
              "      <th>Title</th>\n",
              "      <th>Body</th>\n",
              "      <th>Tags</th>\n",
              "    </tr>\n",
              "  </thead>\n",
              "  <tbody>\n",
              "    <tr>\n",
              "      <th>409145</th>\n",
              "      <td>20811050</td>\n",
              "      <td>0</td>\n",
              "      <td>ENTITY RELATION ? How to relate when one of th...</td>\n",
              "      <td>owners owns taxis owners provide taxis cab com...</td>\n",
              "      <td>sql</td>\n",
              "    </tr>\n",
              "    <tr>\n",
              "      <th>414866</th>\n",
              "      <td>21078310</td>\n",
              "      <td>3</td>\n",
              "      <td>How can I style layer.control in leaflet.js?</td>\n",
              "      <td>trying change default dropdown menu icon layer...</td>\n",
              "      <td>javascript</td>\n",
              "    </tr>\n",
              "    <tr>\n",
              "      <th>786219</th>\n",
              "      <td>37473620</td>\n",
              "      <td>0</td>\n",
              "      <td>Proper way to destroy linked List?</td>\n",
              "      <td>destroy linked list completely instance right ...</td>\n",
              "      <td>c</td>\n",
              "    </tr>\n",
              "    <tr>\n",
              "      <th>626733</th>\n",
              "      <td>30689310</td>\n",
              "      <td>2</td>\n",
              "      <td>Anonymous Function Causing Problems</td>\n",
              "      <td>thing giving problems executing anonymous func...</td>\n",
              "      <td>javascript</td>\n",
              "    </tr>\n",
              "    <tr>\n",
              "      <th>62513</th>\n",
              "      <td>4069930</td>\n",
              "      <td>3</td>\n",
              "      <td>ASP.NET MVC State Management</td>\n",
              "      <td>working net mvc web application bunch web part...</td>\n",
              "      <td>asp.net</td>\n",
              "    </tr>\n",
              "  </tbody>\n",
              "</table>\n",
              "</div>"
            ],
            "text/plain": [
              "              Id  ...        Tags\n",
              "409145  20811050  ...         sql\n",
              "414866  21078310  ...  javascript\n",
              "786219  37473620  ...           c\n",
              "626733  30689310  ...  javascript\n",
              "62513    4069930  ...     asp.net\n",
              "\n",
              "[5 rows x 5 columns]"
            ]
          },
          "metadata": {
            "tags": []
          },
          "execution_count": 42
        }
      ]
    },
    {
      "cell_type": "code",
      "metadata": {
        "colab": {
          "base_uri": "https://localhost:8080/",
          "height": 206
        },
        "id": "a1-8sMmq_-nR",
        "outputId": "1ba6440c-0474-492a-f46d-e45d6770ea3e"
      },
      "source": [
        "new_df['Title'] = new_df['Title'].apply(clean_text)\r\n",
        "new_df.head(5)"
      ],
      "execution_count": 43,
      "outputs": [
        {
          "output_type": "execute_result",
          "data": {
            "text/html": [
              "<div>\n",
              "<style scoped>\n",
              "    .dataframe tbody tr th:only-of-type {\n",
              "        vertical-align: middle;\n",
              "    }\n",
              "\n",
              "    .dataframe tbody tr th {\n",
              "        vertical-align: top;\n",
              "    }\n",
              "\n",
              "    .dataframe thead th {\n",
              "        text-align: right;\n",
              "    }\n",
              "</style>\n",
              "<table border=\"1\" class=\"dataframe\">\n",
              "  <thead>\n",
              "    <tr style=\"text-align: right;\">\n",
              "      <th></th>\n",
              "      <th>Id</th>\n",
              "      <th>Score</th>\n",
              "      <th>Title</th>\n",
              "      <th>Body</th>\n",
              "      <th>Tags</th>\n",
              "    </tr>\n",
              "  </thead>\n",
              "  <tbody>\n",
              "    <tr>\n",
              "      <th>409145</th>\n",
              "      <td>20811050</td>\n",
              "      <td>0</td>\n",
              "      <td>entity relation relate one component entity co...</td>\n",
              "      <td>owners owns taxis owners provide taxis cab com...</td>\n",
              "      <td>sql</td>\n",
              "    </tr>\n",
              "    <tr>\n",
              "      <th>414866</th>\n",
              "      <td>21078310</td>\n",
              "      <td>3</td>\n",
              "      <td>style layercontrol leafletjs</td>\n",
              "      <td>trying change default dropdown menu icon layer...</td>\n",
              "      <td>javascript</td>\n",
              "    </tr>\n",
              "    <tr>\n",
              "      <th>786219</th>\n",
              "      <td>37473620</td>\n",
              "      <td>0</td>\n",
              "      <td>proper way destroy linked list</td>\n",
              "      <td>destroy linked list completely instance right ...</td>\n",
              "      <td>c</td>\n",
              "    </tr>\n",
              "    <tr>\n",
              "      <th>626733</th>\n",
              "      <td>30689310</td>\n",
              "      <td>2</td>\n",
              "      <td>anonymous function causing problems</td>\n",
              "      <td>thing giving problems executing anonymous func...</td>\n",
              "      <td>javascript</td>\n",
              "    </tr>\n",
              "    <tr>\n",
              "      <th>62513</th>\n",
              "      <td>4069930</td>\n",
              "      <td>3</td>\n",
              "      <td>aspnet mvc state management</td>\n",
              "      <td>working net mvc web application bunch web part...</td>\n",
              "      <td>asp.net</td>\n",
              "    </tr>\n",
              "  </tbody>\n",
              "</table>\n",
              "</div>"
            ],
            "text/plain": [
              "              Id  ...        Tags\n",
              "409145  20811050  ...         sql\n",
              "414866  21078310  ...  javascript\n",
              "786219  37473620  ...           c\n",
              "626733  30689310  ...  javascript\n",
              "62513    4069930  ...     asp.net\n",
              "\n",
              "[5 rows x 5 columns]"
            ]
          },
          "metadata": {
            "tags": []
          },
          "execution_count": 43
        }
      ]
    },
    {
      "cell_type": "code",
      "metadata": {
        "colab": {
          "base_uri": "https://localhost:8080/",
          "height": 206
        },
        "id": "Vf2FIi5MD3iR",
        "outputId": "ca6597e9-324e-44fc-843d-18c6bf6938d7"
      },
      "source": [
        "new_df['Body'] = new_df[['Title', 'Body']].agg(' '.join, axis=1)\r\n",
        "new_df.drop(columns=['Title'], inplace=True)\r\n",
        "new_df.head(5)"
      ],
      "execution_count": 44,
      "outputs": [
        {
          "output_type": "execute_result",
          "data": {
            "text/html": [
              "<div>\n",
              "<style scoped>\n",
              "    .dataframe tbody tr th:only-of-type {\n",
              "        vertical-align: middle;\n",
              "    }\n",
              "\n",
              "    .dataframe tbody tr th {\n",
              "        vertical-align: top;\n",
              "    }\n",
              "\n",
              "    .dataframe thead th {\n",
              "        text-align: right;\n",
              "    }\n",
              "</style>\n",
              "<table border=\"1\" class=\"dataframe\">\n",
              "  <thead>\n",
              "    <tr style=\"text-align: right;\">\n",
              "      <th></th>\n",
              "      <th>Id</th>\n",
              "      <th>Score</th>\n",
              "      <th>Body</th>\n",
              "      <th>Tags</th>\n",
              "    </tr>\n",
              "  </thead>\n",
              "  <tbody>\n",
              "    <tr>\n",
              "      <th>409145</th>\n",
              "      <td>20811050</td>\n",
              "      <td>0</td>\n",
              "      <td>entity relation relate one component entity co...</td>\n",
              "      <td>sql</td>\n",
              "    </tr>\n",
              "    <tr>\n",
              "      <th>414866</th>\n",
              "      <td>21078310</td>\n",
              "      <td>3</td>\n",
              "      <td>style layercontrol leafletjs trying change def...</td>\n",
              "      <td>javascript</td>\n",
              "    </tr>\n",
              "    <tr>\n",
              "      <th>786219</th>\n",
              "      <td>37473620</td>\n",
              "      <td>0</td>\n",
              "      <td>proper way destroy linked list destroy linked ...</td>\n",
              "      <td>c</td>\n",
              "    </tr>\n",
              "    <tr>\n",
              "      <th>626733</th>\n",
              "      <td>30689310</td>\n",
              "      <td>2</td>\n",
              "      <td>anonymous function causing problems thing givi...</td>\n",
              "      <td>javascript</td>\n",
              "    </tr>\n",
              "    <tr>\n",
              "      <th>62513</th>\n",
              "      <td>4069930</td>\n",
              "      <td>3</td>\n",
              "      <td>aspnet mvc state management working net mvc we...</td>\n",
              "      <td>asp.net</td>\n",
              "    </tr>\n",
              "  </tbody>\n",
              "</table>\n",
              "</div>"
            ],
            "text/plain": [
              "              Id  ...        Tags\n",
              "409145  20811050  ...         sql\n",
              "414866  21078310  ...  javascript\n",
              "786219  37473620  ...           c\n",
              "626733  30689310  ...  javascript\n",
              "62513    4069930  ...     asp.net\n",
              "\n",
              "[5 rows x 4 columns]"
            ]
          },
          "metadata": {
            "tags": []
          },
          "execution_count": 44
        }
      ]
    },
    {
      "cell_type": "code",
      "metadata": {
        "id": "fIkyV9EiEh5K"
      },
      "source": [
        "from sklearn.model_selection import train_test_split\r\n",
        "\r\n",
        "X = new_df['Body']\r\n",
        "y = new_df['Tags']\r\n",
        "X_train, X_test, y_train, y_test = train_test_split(X, y, test_size=0.3, random_state = 42)"
      ],
      "execution_count": 48,
      "outputs": []
    },
    {
      "cell_type": "code",
      "metadata": {
        "colab": {
          "base_uri": "https://localhost:8080/"
        },
        "id": "b1DyBKY7GXbD",
        "outputId": "d82b7694-f530-49c9-a60d-2358799c92e3"
      },
      "source": [
        "X_train.shape, X_test.shape, y_train.shape, y_test.shape"
      ],
      "execution_count": 49,
      "outputs": [
        {
          "output_type": "execute_result",
          "data": {
            "text/plain": [
              "((796,), (342,), (796,), (342,))"
            ]
          },
          "metadata": {
            "tags": []
          },
          "execution_count": 49
        }
      ]
    },
    {
      "cell_type": "code",
      "metadata": {
        "colab": {
          "base_uri": "https://localhost:8080/"
        },
        "id": "y0aEJNYRGw5V",
        "outputId": "023b3fb2-b53b-4bd5-86b3-381edf6fe8d1"
      },
      "source": [
        "from sklearn.linear_model import SGDClassifier\r\n",
        "from sklearn.metrics import classification_report\r\n",
        "from sklearn.metrics import accuracy_score\r\n",
        "from sklearn.pipeline import Pipeline\r\n",
        "from sklearn.feature_extraction.text import CountVectorizer\r\n",
        "from sklearn.feature_extraction.text import TfidfTransformer \r\n",
        "\r\n",
        "sgd = Pipeline([('vect', CountVectorizer()),\r\n",
        "                ('tfidf', TfidfTransformer()),\r\n",
        "                ('clf', SGDClassifier(loss='hinge', penalty='l2',alpha=1e-3, random_state=42, max_iter=5, tol=None)),\r\n",
        "               ])\r\n",
        "sgd.fit(X_train, y_train)\r\n",
        "y_pred = sgd.predict(X_test)\r\n",
        "print('accuracy %s' % accuracy_score(y_pred, y_test))\r\n",
        "print(classification_report(y_test, y_pred,target_names=selected_tags))"
      ],
      "execution_count": 55,
      "outputs": [
        {
          "output_type": "stream",
          "text": [
            "accuracy 0.5847953216374269\n",
            "               precision    recall  f1-score   support\n",
            "\n",
            "         java       0.00      0.00      0.00         6\n",
            "         html       0.78      0.78      0.78        36\n",
            "      asp.net       0.00      0.00      0.00         4\n",
            "           c#       0.00      0.00      0.00         7\n",
            "ruby-on-rails       0.12      0.14      0.13         7\n",
            "       jquery       0.47      0.55      0.50        51\n",
            "        mysql       0.74      0.57      0.65        40\n",
            "          php       0.33      0.33      0.33         3\n",
            "          ios       0.00      0.00      0.00         3\n",
            "   javascript       0.50      0.36      0.42        11\n",
            "       python       0.36      0.29      0.32        14\n",
            "            c       0.65      0.82      0.72        49\n",
            "          css       0.47      0.75      0.58        28\n",
            "      android       0.50      0.40      0.44         5\n",
            "       iphone       0.50      0.40      0.44         5\n",
            "          sql       0.00      0.00      0.00         8\n",
            "  objective-c       0.72      0.54      0.62        24\n",
            "          c++       0.68      0.88      0.76        24\n",
            "    angularjs       0.67      0.75      0.71         8\n",
            "         .net       1.00      0.67      0.80         9\n",
            "\n",
            "     accuracy                           0.58       342\n",
            "    macro avg       0.42      0.41      0.41       342\n",
            " weighted avg       0.56      0.58      0.56       342\n",
            "\n"
          ],
          "name": "stdout"
        },
        {
          "output_type": "stream",
          "text": [
            "/usr/local/lib/python3.6/dist-packages/sklearn/metrics/_classification.py:1272: UndefinedMetricWarning: Precision and F-score are ill-defined and being set to 0.0 in labels with no predicted samples. Use `zero_division` parameter to control this behavior.\n",
            "  _warn_prf(average, modifier, msg_start, len(result))\n"
          ],
          "name": "stderr"
        }
      ]
    }
  ]
}