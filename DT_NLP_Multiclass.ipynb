{
  "nbformat": 4,
  "nbformat_minor": 0,
  "metadata": {
    "colab": {
      "name": "DT_NLP_Multiclass.ipynb",
      "provenance": [],
      "toc_visible": true
    },
    "kernelspec": {
      "name": "python3",
      "display_name": "Python 3"
    }
  },
  "cells": [
    {
      "cell_type": "markdown",
      "metadata": {
        "id": "b4rFtjHUNkxS"
      },
      "source": [
        "# Dataset creation"
      ]
    },
    {
      "cell_type": "code",
      "metadata": {
        "colab": {
          "base_uri": "https://localhost:8080/"
        },
        "id": "RciblLjkQshu",
        "outputId": "453290c3-77b9-4941-ad36-4513ecd55f26"
      },
      "source": [
        "from google.colab import drive \r\n",
        "\r\n",
        "drive.mount('/content/gdrive', force_remount=True)"
      ],
      "execution_count": 27,
      "outputs": [
        {
          "output_type": "stream",
          "text": [
            "Mounted at /content/gdrive\n"
          ],
          "name": "stdout"
        }
      ]
    },
    {
      "cell_type": "code",
      "metadata": {
        "id": "zdkjnlOrQury"
      },
      "source": [
        "!mkdir -p input"
      ],
      "execution_count": 28,
      "outputs": []
    },
    {
      "cell_type": "code",
      "metadata": {
        "id": "drxmdpPvRCpU",
        "colab": {
          "base_uri": "https://localhost:8080/"
        },
        "outputId": "c8a3b714-969e-4fe9-9d51-2537b1a27c7a"
      },
      "source": [
        "!cp /content/gdrive/MyDrive/itmo_master/3/DT_NLP/dataset/*.csv input && ls -la"
      ],
      "execution_count": 29,
      "outputs": [
        {
          "output_type": "stream",
          "text": [
            "total 24\n",
            "drwxr-xr-x 1 root root 4096 Jan 13 14:06 .\n",
            "drwxr-xr-x 1 root root 4096 Jan 13 13:48 ..\n",
            "drwxr-xr-x 1 root root 4096 Jan  8 17:11 .config\n",
            "drwx------ 5 root root 4096 Jan 13 14:06 gdrive\n",
            "drwxr-xr-x 2 root root 4096 Jan 13 13:51 input\n",
            "drwxr-xr-x 1 root root 4096 Jan  6 18:10 sample_data\n"
          ],
          "name": "stdout"
        }
      ]
    },
    {
      "cell_type": "code",
      "metadata": {
        "id": "MXXWZmnEij5w"
      },
      "source": [
        "!cp /content/gdrive/MyDrive/itmo_master/3/DT_NLP/dataset/*.zip input"
      ],
      "execution_count": null,
      "outputs": []
    },
    {
      "cell_type": "code",
      "metadata": {
        "colab": {
          "base_uri": "https://localhost:8080/"
        },
        "id": "ZaCYj75ujrxZ",
        "outputId": "590b0df3-e721-454d-c67c-3d8d09e1b8ac"
      },
      "source": [
        "!unzip input/Questions -d ./input/ "
      ],
      "execution_count": 31,
      "outputs": [
        {
          "output_type": "stream",
          "text": [
            "Archive:  input/Questions.zip\n",
            "  End-of-central-directory signature not found.  Either this file is not\n",
            "  a zipfile, or it constitutes one disk of a multi-part archive.  In the\n",
            "  latter case the central directory and zipfile comment will be found on\n",
            "  the last disk(s) of this archive.\n",
            "unzip:  cannot find zipfile directory in one of input/Questions or\n",
            "        input/Questions.zip, and cannot find input/Questions.ZIP, period.\n"
          ],
          "name": "stdout"
        }
      ]
    },
    {
      "cell_type": "code",
      "metadata": {
        "colab": {
          "base_uri": "https://localhost:8080/"
        },
        "id": "fpb391fOj7lJ",
        "outputId": "2a2c1d78-a14d-41c3-88b5-3d92ac7be6dd"
      },
      "source": [
        "!ls -lRa ./input/"
      ],
      "execution_count": 32,
      "outputs": [
        {
          "output_type": "stream",
          "text": [
            "./input/:\n",
            "total 2213272\n",
            "drwxr-xr-x 2 root root       4096 Jan 13 13:51 .\n",
            "drwxr-xr-x 1 root root       4096 Jan 13 14:06 ..\n",
            "-rw-r--r-- 1 root root 1923682009 Oct  8  2019 Questions.csv\n",
            "-rw------- 1 root root  277217280 Jan 13 14:06 Questions.zip\n",
            "-rw------- 1 root root   65475836 Jan 13 14:06 Tags.csv\n"
          ],
          "name": "stdout"
        }
      ]
    },
    {
      "cell_type": "code",
      "metadata": {
        "id": "7U6o44rjUxSn"
      },
      "source": [
        "import pandas as pd"
      ],
      "execution_count": 1,
      "outputs": []
    },
    {
      "cell_type": "code",
      "metadata": {
        "colab": {
          "base_uri": "https://localhost:8080/",
          "height": 293
        },
        "id": "X2xgTpYvVDzz",
        "outputId": "1b0a0762-b464-4961-b1d0-1134fc3fb9b6"
      },
      "source": [
        "# Read questions\r\n",
        "df = pd.read_csv(\"./input/Questions.csv\", encoding=\"ISO-8859-1\")\r\n",
        "df.head(5)"
      ],
      "execution_count": 88,
      "outputs": [
        {
          "output_type": "execute_result",
          "data": {
            "text/html": [
              "<div>\n",
              "<style scoped>\n",
              "    .dataframe tbody tr th:only-of-type {\n",
              "        vertical-align: middle;\n",
              "    }\n",
              "\n",
              "    .dataframe tbody tr th {\n",
              "        vertical-align: top;\n",
              "    }\n",
              "\n",
              "    .dataframe thead th {\n",
              "        text-align: right;\n",
              "    }\n",
              "</style>\n",
              "<table border=\"1\" class=\"dataframe\">\n",
              "  <thead>\n",
              "    <tr style=\"text-align: right;\">\n",
              "      <th></th>\n",
              "      <th>Id</th>\n",
              "      <th>OwnerUserId</th>\n",
              "      <th>CreationDate</th>\n",
              "      <th>ClosedDate</th>\n",
              "      <th>Score</th>\n",
              "      <th>Title</th>\n",
              "      <th>Body</th>\n",
              "    </tr>\n",
              "  </thead>\n",
              "  <tbody>\n",
              "    <tr>\n",
              "      <th>0</th>\n",
              "      <td>80</td>\n",
              "      <td>26.0</td>\n",
              "      <td>2008-08-01T13:57:07Z</td>\n",
              "      <td>NaN</td>\n",
              "      <td>26</td>\n",
              "      <td>SQLStatement.execute() - multiple queries in o...</td>\n",
              "      <td>&lt;p&gt;I've written a database generation script i...</td>\n",
              "    </tr>\n",
              "    <tr>\n",
              "      <th>1</th>\n",
              "      <td>90</td>\n",
              "      <td>58.0</td>\n",
              "      <td>2008-08-01T14:41:24Z</td>\n",
              "      <td>2012-12-26T03:45:49Z</td>\n",
              "      <td>144</td>\n",
              "      <td>Good branching and merging tutorials for Torto...</td>\n",
              "      <td>&lt;p&gt;Are there any really good tutorials explain...</td>\n",
              "    </tr>\n",
              "    <tr>\n",
              "      <th>2</th>\n",
              "      <td>120</td>\n",
              "      <td>83.0</td>\n",
              "      <td>2008-08-01T15:50:08Z</td>\n",
              "      <td>NaN</td>\n",
              "      <td>21</td>\n",
              "      <td>ASP.NET Site Maps</td>\n",
              "      <td>&lt;p&gt;Has anyone got experience creating &lt;strong&gt;...</td>\n",
              "    </tr>\n",
              "    <tr>\n",
              "      <th>3</th>\n",
              "      <td>180</td>\n",
              "      <td>2089740.0</td>\n",
              "      <td>2008-08-01T18:42:19Z</td>\n",
              "      <td>NaN</td>\n",
              "      <td>53</td>\n",
              "      <td>Function for creating color wheels</td>\n",
              "      <td>&lt;p&gt;This is something I've pseudo-solved many t...</td>\n",
              "    </tr>\n",
              "    <tr>\n",
              "      <th>4</th>\n",
              "      <td>260</td>\n",
              "      <td>91.0</td>\n",
              "      <td>2008-08-01T23:22:08Z</td>\n",
              "      <td>NaN</td>\n",
              "      <td>49</td>\n",
              "      <td>Adding scripting functionality to .NET applica...</td>\n",
              "      <td>&lt;p&gt;I have a little game written in C#. It uses...</td>\n",
              "    </tr>\n",
              "  </tbody>\n",
              "</table>\n",
              "</div>"
            ],
            "text/plain": [
              "    Id  ...                                               Body\n",
              "0   80  ...  <p>I've written a database generation script i...\n",
              "1   90  ...  <p>Are there any really good tutorials explain...\n",
              "2  120  ...  <p>Has anyone got experience creating <strong>...\n",
              "3  180  ...  <p>This is something I've pseudo-solved many t...\n",
              "4  260  ...  <p>I have a little game written in C#. It uses...\n",
              "\n",
              "[5 rows x 7 columns]"
            ]
          },
          "metadata": {
            "tags": []
          },
          "execution_count": 88
        }
      ]
    },
    {
      "cell_type": "code",
      "metadata": {
        "colab": {
          "base_uri": "https://localhost:8080/",
          "height": 206
        },
        "id": "yjLfM3QmVTIy",
        "outputId": "6b88a30b-ac28-42c6-991b-5a41447e83d1"
      },
      "source": [
        "# Read tags\r\n",
        "tags = pd.read_csv(\"./input/Tags.csv\", encoding=\"ISO-8859-1\", dtype={'Tag': str})\r\n",
        "tags.head(5)"
      ],
      "execution_count": 89,
      "outputs": [
        {
          "output_type": "execute_result",
          "data": {
            "text/html": [
              "<div>\n",
              "<style scoped>\n",
              "    .dataframe tbody tr th:only-of-type {\n",
              "        vertical-align: middle;\n",
              "    }\n",
              "\n",
              "    .dataframe tbody tr th {\n",
              "        vertical-align: top;\n",
              "    }\n",
              "\n",
              "    .dataframe thead th {\n",
              "        text-align: right;\n",
              "    }\n",
              "</style>\n",
              "<table border=\"1\" class=\"dataframe\">\n",
              "  <thead>\n",
              "    <tr style=\"text-align: right;\">\n",
              "      <th></th>\n",
              "      <th>Id</th>\n",
              "      <th>Tag</th>\n",
              "    </tr>\n",
              "  </thead>\n",
              "  <tbody>\n",
              "    <tr>\n",
              "      <th>0</th>\n",
              "      <td>80</td>\n",
              "      <td>flex</td>\n",
              "    </tr>\n",
              "    <tr>\n",
              "      <th>1</th>\n",
              "      <td>80</td>\n",
              "      <td>actionscript-3</td>\n",
              "    </tr>\n",
              "    <tr>\n",
              "      <th>2</th>\n",
              "      <td>80</td>\n",
              "      <td>air</td>\n",
              "    </tr>\n",
              "    <tr>\n",
              "      <th>3</th>\n",
              "      <td>90</td>\n",
              "      <td>svn</td>\n",
              "    </tr>\n",
              "    <tr>\n",
              "      <th>4</th>\n",
              "      <td>90</td>\n",
              "      <td>tortoisesvn</td>\n",
              "    </tr>\n",
              "  </tbody>\n",
              "</table>\n",
              "</div>"
            ],
            "text/plain": [
              "   Id             Tag\n",
              "0  80            flex\n",
              "1  80  actionscript-3\n",
              "2  80             air\n",
              "3  90             svn\n",
              "4  90     tortoisesvn"
            ]
          },
          "metadata": {
            "tags": []
          },
          "execution_count": 89
        }
      ]
    },
    {
      "cell_type": "code",
      "metadata": {
        "id": "gG_ONmwb67Rj",
        "colab": {
          "base_uri": "https://localhost:8080/"
        },
        "outputId": "8e7993eb-e961-4e9e-d69f-1e1a9970cc20"
      },
      "source": [
        "# Programming languages/frameworks/etc\r\n",
        "#selected_tags = ['java','html','asp.net','c#','ruby-on-rails','jquery','mysql','php','ios','javascript','python','c','css','android','iphone','sql','objective-c','c++','angularjs','.net']\r\n",
        "NUM = 20\r\n",
        "selected_tags = tags['Tag'].value_counts()[:NUM].index.tolist()\r\n",
        "selected_tags[:10]"
      ],
      "execution_count": 90,
      "outputs": [
        {
          "output_type": "execute_result",
          "data": {
            "text/plain": [
              "['javascript',\n",
              " 'java',\n",
              " 'c#',\n",
              " 'php',\n",
              " 'android',\n",
              " 'jquery',\n",
              " 'python',\n",
              " 'html',\n",
              " 'c++',\n",
              " 'ios']"
            ]
          },
          "metadata": {
            "tags": []
          },
          "execution_count": 90
        }
      ]
    },
    {
      "cell_type": "code",
      "metadata": {
        "id": "S8_ocG8574an"
      },
      "source": [
        "df.drop(columns=['OwnerUserId', 'CreationDate', 'ClosedDate'], inplace=True)"
      ],
      "execution_count": 91,
      "outputs": []
    },
    {
      "cell_type": "code",
      "metadata": {
        "colab": {
          "base_uri": "https://localhost:8080/"
        },
        "id": "pgtWFthj8LBq",
        "outputId": "8d36bc0c-0008-4492-cb5b-a452101222f6"
      },
      "source": [
        "def get_tag(tags):\r\n",
        "  for tag in tags:\r\n",
        "    if tag in selected_tags:\r\n",
        "      return tag\r\n",
        "  return None\r\n",
        "\r\n",
        "tags['Tag'] = tags['Tag'].astype(str)\r\n",
        "grouped_tags = tags.groupby(\"Id\")['Tag'].apply(lambda tags: get_tag(tags))\r\n",
        "grouped_tags.head(5)"
      ],
      "execution_count": 92,
      "outputs": [
        {
          "output_type": "execute_result",
          "data": {
            "text/plain": [
              "Id\n",
              "80     None\n",
              "90     None\n",
              "120     sql\n",
              "180    None\n",
              "260      c#\n",
              "Name: Tag, dtype: object"
            ]
          },
          "metadata": {
            "tags": []
          },
          "execution_count": 92
        }
      ]
    },
    {
      "cell_type": "code",
      "metadata": {
        "colab": {
          "base_uri": "https://localhost:8080/"
        },
        "id": "ryC5CEWr8NCL",
        "outputId": "536ef1ee-9126-4e9e-85cb-203161bded98"
      },
      "source": [
        "grouped_tags = grouped_tags.dropna()\r\n",
        "grouped_tags.head(5), grouped_tags.shape"
      ],
      "execution_count": 93,
      "outputs": [
        {
          "output_type": "execute_result",
          "data": {
            "text/plain": [
              "(Id\n",
              " 120     sql\n",
              " 260      c#\n",
              " 330     c++\n",
              " 470    .net\n",
              " 650      c#\n",
              " Name: Tag, dtype: object, (850988,))"
            ]
          },
          "metadata": {
            "tags": []
          },
          "execution_count": 93
        }
      ]
    },
    {
      "cell_type": "code",
      "metadata": {
        "colab": {
          "base_uri": "https://localhost:8080/",
          "height": 237
        },
        "id": "iR758-Wi8SoV",
        "outputId": "49ebc26a-93b5-48e4-c817-ebfa2113efcb"
      },
      "source": [
        "grouped_tags.reset_index()\r\n",
        "grouped_tags_final = pd.DataFrame({'Id':grouped_tags.index, 'Tags':grouped_tags})\r\n",
        "grouped_tags_final.drop(columns=['Id'], inplace=True)\r\n",
        "grouped_tags_final.head(5)"
      ],
      "execution_count": 94,
      "outputs": [
        {
          "output_type": "execute_result",
          "data": {
            "text/html": [
              "<div>\n",
              "<style scoped>\n",
              "    .dataframe tbody tr th:only-of-type {\n",
              "        vertical-align: middle;\n",
              "    }\n",
              "\n",
              "    .dataframe tbody tr th {\n",
              "        vertical-align: top;\n",
              "    }\n",
              "\n",
              "    .dataframe thead th {\n",
              "        text-align: right;\n",
              "    }\n",
              "</style>\n",
              "<table border=\"1\" class=\"dataframe\">\n",
              "  <thead>\n",
              "    <tr style=\"text-align: right;\">\n",
              "      <th></th>\n",
              "      <th>Tags</th>\n",
              "    </tr>\n",
              "    <tr>\n",
              "      <th>Id</th>\n",
              "      <th></th>\n",
              "    </tr>\n",
              "  </thead>\n",
              "  <tbody>\n",
              "    <tr>\n",
              "      <th>120</th>\n",
              "      <td>sql</td>\n",
              "    </tr>\n",
              "    <tr>\n",
              "      <th>260</th>\n",
              "      <td>c#</td>\n",
              "    </tr>\n",
              "    <tr>\n",
              "      <th>330</th>\n",
              "      <td>c++</td>\n",
              "    </tr>\n",
              "    <tr>\n",
              "      <th>470</th>\n",
              "      <td>.net</td>\n",
              "    </tr>\n",
              "    <tr>\n",
              "      <th>650</th>\n",
              "      <td>c#</td>\n",
              "    </tr>\n",
              "  </tbody>\n",
              "</table>\n",
              "</div>"
            ],
            "text/plain": [
              "     Tags\n",
              "Id       \n",
              "120   sql\n",
              "260    c#\n",
              "330   c++\n",
              "470  .net\n",
              "650    c#"
            ]
          },
          "metadata": {
            "tags": []
          },
          "execution_count": 94
        }
      ]
    },
    {
      "cell_type": "code",
      "metadata": {
        "colab": {
          "base_uri": "https://localhost:8080/",
          "height": 206
        },
        "id": "EdIvzwNj8uIw",
        "outputId": "8b139061-0ca4-454e-fa57-0dd6fd56d123"
      },
      "source": [
        "df = df.merge(grouped_tags_final, on='Id')\r\n",
        "df.head(5)"
      ],
      "execution_count": 95,
      "outputs": [
        {
          "output_type": "execute_result",
          "data": {
            "text/html": [
              "<div>\n",
              "<style scoped>\n",
              "    .dataframe tbody tr th:only-of-type {\n",
              "        vertical-align: middle;\n",
              "    }\n",
              "\n",
              "    .dataframe tbody tr th {\n",
              "        vertical-align: top;\n",
              "    }\n",
              "\n",
              "    .dataframe thead th {\n",
              "        text-align: right;\n",
              "    }\n",
              "</style>\n",
              "<table border=\"1\" class=\"dataframe\">\n",
              "  <thead>\n",
              "    <tr style=\"text-align: right;\">\n",
              "      <th></th>\n",
              "      <th>Id</th>\n",
              "      <th>Score</th>\n",
              "      <th>Title</th>\n",
              "      <th>Body</th>\n",
              "      <th>Tags</th>\n",
              "    </tr>\n",
              "  </thead>\n",
              "  <tbody>\n",
              "    <tr>\n",
              "      <th>0</th>\n",
              "      <td>120</td>\n",
              "      <td>21</td>\n",
              "      <td>ASP.NET Site Maps</td>\n",
              "      <td>&lt;p&gt;Has anyone got experience creating &lt;strong&gt;...</td>\n",
              "      <td>sql</td>\n",
              "    </tr>\n",
              "    <tr>\n",
              "      <th>1</th>\n",
              "      <td>260</td>\n",
              "      <td>49</td>\n",
              "      <td>Adding scripting functionality to .NET applica...</td>\n",
              "      <td>&lt;p&gt;I have a little game written in C#. It uses...</td>\n",
              "      <td>c#</td>\n",
              "    </tr>\n",
              "    <tr>\n",
              "      <th>2</th>\n",
              "      <td>330</td>\n",
              "      <td>29</td>\n",
              "      <td>Should I use nested classes in this case?</td>\n",
              "      <td>&lt;p&gt;I am working on a collection of classes use...</td>\n",
              "      <td>c++</td>\n",
              "    </tr>\n",
              "    <tr>\n",
              "      <th>3</th>\n",
              "      <td>470</td>\n",
              "      <td>13</td>\n",
              "      <td>Homegrown consumption of web services</td>\n",
              "      <td>&lt;p&gt;I've been writing a few web services for a ...</td>\n",
              "      <td>.net</td>\n",
              "    </tr>\n",
              "    <tr>\n",
              "      <th>4</th>\n",
              "      <td>650</td>\n",
              "      <td>79</td>\n",
              "      <td>Automatically update version number</td>\n",
              "      <td>&lt;p&gt;I would like the version property of my app...</td>\n",
              "      <td>c#</td>\n",
              "    </tr>\n",
              "  </tbody>\n",
              "</table>\n",
              "</div>"
            ],
            "text/plain": [
              "    Id  Score  ...                                               Body  Tags\n",
              "0  120     21  ...  <p>Has anyone got experience creating <strong>...   sql\n",
              "1  260     49  ...  <p>I have a little game written in C#. It uses...    c#\n",
              "2  330     29  ...  <p>I am working on a collection of classes use...   c++\n",
              "3  470     13  ...  <p>I've been writing a few web services for a ...  .net\n",
              "4  650     79  ...  <p>I would like the version property of my app...    c#\n",
              "\n",
              "[5 rows x 5 columns]"
            ]
          },
          "metadata": {
            "tags": []
          },
          "execution_count": 95
        }
      ]
    },
    {
      "cell_type": "markdown",
      "metadata": {
        "id": "lFhPZY4v-mK7"
      },
      "source": [
        "# Preprocessing"
      ]
    },
    {
      "cell_type": "code",
      "metadata": {
        "colab": {
          "base_uri": "https://localhost:8080/"
        },
        "id": "jzSCF9NK_P7R",
        "outputId": "1bc086fb-4bb1-43d7-a7d4-77bce5b37e2c"
      },
      "source": [
        "!pip install nltk\r\n",
        "!pip install beautifulsoup4"
      ],
      "execution_count": 96,
      "outputs": [
        {
          "output_type": "stream",
          "text": [
            "Requirement already satisfied: nltk in /usr/local/lib/python3.6/dist-packages (3.2.5)\n",
            "Requirement already satisfied: six in /usr/local/lib/python3.6/dist-packages (from nltk) (1.15.0)\n",
            "Requirement already satisfied: beautifulsoup4 in /usr/local/lib/python3.6/dist-packages (4.6.3)\n"
          ],
          "name": "stdout"
        }
      ]
    },
    {
      "cell_type": "code",
      "metadata": {
        "colab": {
          "base_uri": "https://localhost:8080/"
        },
        "id": "AiCS9oY3_gOQ",
        "outputId": "52cbfe45-f844-4c1f-8252-9bfb26743901"
      },
      "source": [
        "import nltk\r\n",
        "nltk.download('stopwords')"
      ],
      "execution_count": 97,
      "outputs": [
        {
          "output_type": "stream",
          "text": [
            "[nltk_data] Downloading package stopwords to /root/nltk_data...\n",
            "[nltk_data]   Package stopwords is already up-to-date!\n"
          ],
          "name": "stdout"
        },
        {
          "output_type": "execute_result",
          "data": {
            "text/plain": [
              "True"
            ]
          },
          "metadata": {
            "tags": []
          },
          "execution_count": 97
        }
      ]
    },
    {
      "cell_type": "code",
      "metadata": {
        "id": "b0uP9GUJ-qFL"
      },
      "source": [
        "from nltk.corpus import stopwords\r\n",
        "from bs4 import BeautifulSoup\r\n",
        "import re\r\n",
        "\r\n",
        "REPLACE_BY_SPACE_RE = re.compile('[/(){}\\[\\]\\|@,;]')\r\n",
        "BAD_SYMBOLS_RE = re.compile('[^0-9a-z #+_]')\r\n",
        "STOPWORDS = set(stopwords.words('english'))\r\n",
        "\r\n",
        "def clean_text(text):\r\n",
        "    text = BeautifulSoup(text, \"lxml\").text # HTML decoding\r\n",
        "    text = text.lower() # lowercase text\r\n",
        "    text = re.sub(r'\\d+', '', text) # remove digits\r\n",
        "    text = REPLACE_BY_SPACE_RE.sub(' ', text) # replace REPLACE_BY_SPACE_RE symbols by space in text\r\n",
        "    text = BAD_SYMBOLS_RE.sub('', text) # delete symbols which are in BAD_SYMBOLS_RE from text\r\n",
        "    text = ' '.join(word for word in text.split() if word not in STOPWORDS) # delete stopwors from text\r\n",
        "    text = re.sub('<code>(.|\\n)*?<\\/code>', '', text)\r\n",
        "    return text\r\n"
      ],
      "execution_count": 98,
      "outputs": []
    },
    {
      "cell_type": "code",
      "metadata": {
        "colab": {
          "base_uri": "https://localhost:8080/"
        },
        "id": "zpmWXtG_AOYV",
        "outputId": "653816f3-e935-4f6c-98bd-693ed028a053"
      },
      "source": [
        "new_df = df\r\n",
        "new_df.dropna(subset=['Tags'], inplace=True)\r\n",
        "df.head(5), new_df.shape"
      ],
      "execution_count": 99,
      "outputs": [
        {
          "output_type": "execute_result",
          "data": {
            "text/plain": [
              "(    Id  Score  ...                                               Body  Tags\n",
              " 0  120     21  ...  <p>Has anyone got experience creating <strong>...   sql\n",
              " 1  260     49  ...  <p>I have a little game written in C#. It uses...    c#\n",
              " 2  330     29  ...  <p>I am working on a collection of classes use...   c++\n",
              " 3  470     13  ...  <p>I've been writing a few web services for a ...  .net\n",
              " 4  650     79  ...  <p>I would like the version property of my app...    c#\n",
              " \n",
              " [5 rows x 5 columns], (850988, 5))"
            ]
          },
          "metadata": {
            "tags": []
          },
          "execution_count": 99
        }
      ]
    },
    {
      "cell_type": "code",
      "metadata": {
        "colab": {
          "base_uri": "https://localhost:8080/",
          "height": 206
        },
        "id": "Sm-UsENc_jQ7",
        "outputId": "dd7945b2-bcc5-40cf-c06b-6f1964c9feef"
      },
      "source": [
        "new_df = new_df.sample(n=40000)\r\n",
        "new_df['Body'] = new_df['Body'].apply(clean_text)\r\n",
        "new_df.head(5)"
      ],
      "execution_count": 100,
      "outputs": [
        {
          "output_type": "execute_result",
          "data": {
            "text/html": [
              "<div>\n",
              "<style scoped>\n",
              "    .dataframe tbody tr th:only-of-type {\n",
              "        vertical-align: middle;\n",
              "    }\n",
              "\n",
              "    .dataframe tbody tr th {\n",
              "        vertical-align: top;\n",
              "    }\n",
              "\n",
              "    .dataframe thead th {\n",
              "        text-align: right;\n",
              "    }\n",
              "</style>\n",
              "<table border=\"1\" class=\"dataframe\">\n",
              "  <thead>\n",
              "    <tr style=\"text-align: right;\">\n",
              "      <th></th>\n",
              "      <th>Id</th>\n",
              "      <th>Score</th>\n",
              "      <th>Title</th>\n",
              "      <th>Body</th>\n",
              "      <th>Tags</th>\n",
              "    </tr>\n",
              "  </thead>\n",
              "  <tbody>\n",
              "    <tr>\n",
              "      <th>681327</th>\n",
              "      <td>33127350</td>\n",
              "      <td>1</td>\n",
              "      <td>How to set servlet-mapping in servlets corectl...</td>\n",
              "      <td>using servlets jspi trying delete order web ap...</td>\n",
              "      <td>java</td>\n",
              "    </tr>\n",
              "    <tr>\n",
              "      <th>707561</th>\n",
              "      <td>34193980</td>\n",
              "      <td>0</td>\n",
              "      <td>#import &lt;SenTestingKit/SenTestingKit.h&gt; not found</td>\n",
              "      <td>#importsentestingkit sentestingkithframework f...</td>\n",
              "      <td>ios</td>\n",
              "    </tr>\n",
              "    <tr>\n",
              "      <th>649442</th>\n",
              "      <td>31700560</td>\n",
              "      <td>0</td>\n",
              "      <td>Error getting android attriblute value in cust...</td>\n",
              "      <td>creating customview textview button change cus...</td>\n",
              "      <td>android</td>\n",
              "    </tr>\n",
              "    <tr>\n",
              "      <th>210420</th>\n",
              "      <td>11328320</td>\n",
              "      <td>3</td>\n",
              "      <td>Nested Form, \"Can't mass-assign protected attr...</td>\n",
              "      <td>relevant part nested formdiv classfield ffield...</td>\n",
              "      <td>ruby-on-rails</td>\n",
              "    </tr>\n",
              "    <tr>\n",
              "      <th>627015</th>\n",
              "      <td>30701230</td>\n",
              "      <td>0</td>\n",
              "      <td>Angularfire facebook user_friends</td>\n",
              "      <td>using facebook authentication angularfire dont...</td>\n",
              "      <td>angularjs</td>\n",
              "    </tr>\n",
              "  </tbody>\n",
              "</table>\n",
              "</div>"
            ],
            "text/plain": [
              "              Id  ...           Tags\n",
              "681327  33127350  ...           java\n",
              "707561  34193980  ...            ios\n",
              "649442  31700560  ...        android\n",
              "210420  11328320  ...  ruby-on-rails\n",
              "627015  30701230  ...      angularjs\n",
              "\n",
              "[5 rows x 5 columns]"
            ]
          },
          "metadata": {
            "tags": []
          },
          "execution_count": 100
        }
      ]
    },
    {
      "cell_type": "code",
      "metadata": {
        "colab": {
          "base_uri": "https://localhost:8080/",
          "height": 206
        },
        "id": "a1-8sMmq_-nR",
        "outputId": "abcecbd7-1a71-4821-8b8c-55c898b5cafe"
      },
      "source": [
        "new_df['Title'] = new_df['Title'].apply(clean_text)\r\n",
        "new_df.head(5)"
      ],
      "execution_count": 101,
      "outputs": [
        {
          "output_type": "execute_result",
          "data": {
            "text/html": [
              "<div>\n",
              "<style scoped>\n",
              "    .dataframe tbody tr th:only-of-type {\n",
              "        vertical-align: middle;\n",
              "    }\n",
              "\n",
              "    .dataframe tbody tr th {\n",
              "        vertical-align: top;\n",
              "    }\n",
              "\n",
              "    .dataframe thead th {\n",
              "        text-align: right;\n",
              "    }\n",
              "</style>\n",
              "<table border=\"1\" class=\"dataframe\">\n",
              "  <thead>\n",
              "    <tr style=\"text-align: right;\">\n",
              "      <th></th>\n",
              "      <th>Id</th>\n",
              "      <th>Score</th>\n",
              "      <th>Title</th>\n",
              "      <th>Body</th>\n",
              "      <th>Tags</th>\n",
              "    </tr>\n",
              "  </thead>\n",
              "  <tbody>\n",
              "    <tr>\n",
              "      <th>681327</th>\n",
              "      <td>33127350</td>\n",
              "      <td>1</td>\n",
              "      <td>set servletmapping servlets corectly get id va...</td>\n",
              "      <td>using servlets jspi trying delete order web ap...</td>\n",
              "      <td>java</td>\n",
              "    </tr>\n",
              "    <tr>\n",
              "      <th>707561</th>\n",
              "      <td>34193980</td>\n",
              "      <td>0</td>\n",
              "      <td>#import found</td>\n",
              "      <td>#importsentestingkit sentestingkithframework f...</td>\n",
              "      <td>ios</td>\n",
              "    </tr>\n",
              "    <tr>\n",
              "      <th>649442</th>\n",
              "      <td>31700560</td>\n",
              "      <td>0</td>\n",
              "      <td>error getting android attriblute value customv...</td>\n",
              "      <td>creating customview textview button change cus...</td>\n",
              "      <td>android</td>\n",
              "    </tr>\n",
              "    <tr>\n",
              "      <th>210420</th>\n",
              "      <td>11328320</td>\n",
              "      <td>3</td>\n",
              "      <td>nested form cant massassign protected attributes</td>\n",
              "      <td>relevant part nested formdiv classfield ffield...</td>\n",
              "      <td>ruby-on-rails</td>\n",
              "    </tr>\n",
              "    <tr>\n",
              "      <th>627015</th>\n",
              "      <td>30701230</td>\n",
              "      <td>0</td>\n",
              "      <td>angularfire facebook user_friends</td>\n",
              "      <td>using facebook authentication angularfire dont...</td>\n",
              "      <td>angularjs</td>\n",
              "    </tr>\n",
              "  </tbody>\n",
              "</table>\n",
              "</div>"
            ],
            "text/plain": [
              "              Id  ...           Tags\n",
              "681327  33127350  ...           java\n",
              "707561  34193980  ...            ios\n",
              "649442  31700560  ...        android\n",
              "210420  11328320  ...  ruby-on-rails\n",
              "627015  30701230  ...      angularjs\n",
              "\n",
              "[5 rows x 5 columns]"
            ]
          },
          "metadata": {
            "tags": []
          },
          "execution_count": 101
        }
      ]
    },
    {
      "cell_type": "code",
      "metadata": {
        "colab": {
          "base_uri": "https://localhost:8080/",
          "height": 206
        },
        "id": "Vf2FIi5MD3iR",
        "outputId": "b7705d85-1d13-425a-93e2-1ffdecc6716b"
      },
      "source": [
        "new_df['Body'] = new_df[['Title', 'Body']].agg(' '.join, axis=1)\r\n",
        "new_df.drop(columns=['Title'], inplace=True)\r\n",
        "new_df.head(5)"
      ],
      "execution_count": 102,
      "outputs": [
        {
          "output_type": "execute_result",
          "data": {
            "text/html": [
              "<div>\n",
              "<style scoped>\n",
              "    .dataframe tbody tr th:only-of-type {\n",
              "        vertical-align: middle;\n",
              "    }\n",
              "\n",
              "    .dataframe tbody tr th {\n",
              "        vertical-align: top;\n",
              "    }\n",
              "\n",
              "    .dataframe thead th {\n",
              "        text-align: right;\n",
              "    }\n",
              "</style>\n",
              "<table border=\"1\" class=\"dataframe\">\n",
              "  <thead>\n",
              "    <tr style=\"text-align: right;\">\n",
              "      <th></th>\n",
              "      <th>Id</th>\n",
              "      <th>Score</th>\n",
              "      <th>Body</th>\n",
              "      <th>Tags</th>\n",
              "    </tr>\n",
              "  </thead>\n",
              "  <tbody>\n",
              "    <tr>\n",
              "      <th>681327</th>\n",
              "      <td>33127350</td>\n",
              "      <td>1</td>\n",
              "      <td>set servletmapping servlets corectly get id va...</td>\n",
              "      <td>java</td>\n",
              "    </tr>\n",
              "    <tr>\n",
              "      <th>707561</th>\n",
              "      <td>34193980</td>\n",
              "      <td>0</td>\n",
              "      <td>#import found #importsentestingkit sentestingk...</td>\n",
              "      <td>ios</td>\n",
              "    </tr>\n",
              "    <tr>\n",
              "      <th>649442</th>\n",
              "      <td>31700560</td>\n",
              "      <td>0</td>\n",
              "      <td>error getting android attriblute value customv...</td>\n",
              "      <td>android</td>\n",
              "    </tr>\n",
              "    <tr>\n",
              "      <th>210420</th>\n",
              "      <td>11328320</td>\n",
              "      <td>3</td>\n",
              "      <td>nested form cant massassign protected attribut...</td>\n",
              "      <td>ruby-on-rails</td>\n",
              "    </tr>\n",
              "    <tr>\n",
              "      <th>627015</th>\n",
              "      <td>30701230</td>\n",
              "      <td>0</td>\n",
              "      <td>angularfire facebook user_friends using facebo...</td>\n",
              "      <td>angularjs</td>\n",
              "    </tr>\n",
              "  </tbody>\n",
              "</table>\n",
              "</div>"
            ],
            "text/plain": [
              "              Id  ...           Tags\n",
              "681327  33127350  ...           java\n",
              "707561  34193980  ...            ios\n",
              "649442  31700560  ...        android\n",
              "210420  11328320  ...  ruby-on-rails\n",
              "627015  30701230  ...      angularjs\n",
              "\n",
              "[5 rows x 4 columns]"
            ]
          },
          "metadata": {
            "tags": []
          },
          "execution_count": 102
        }
      ]
    },
    {
      "cell_type": "markdown",
      "metadata": {
        "id": "37lqxlTcUjTX"
      },
      "source": [
        "# Building the model + evaluation"
      ]
    },
    {
      "cell_type": "code",
      "metadata": {
        "id": "fIkyV9EiEh5K"
      },
      "source": [
        "from sklearn.model_selection import train_test_split\r\n",
        "\r\n",
        "X = new_df['Body']\r\n",
        "y = new_df['Tags']\r\n",
        "X_train, X_test, y_train, y_test = train_test_split(X, y, test_size=0.3, random_state = 42)"
      ],
      "execution_count": 103,
      "outputs": []
    },
    {
      "cell_type": "code",
      "metadata": {
        "colab": {
          "base_uri": "https://localhost:8080/"
        },
        "id": "b1DyBKY7GXbD",
        "outputId": "94b8afba-78d9-42fb-d4f5-26d65cd833a3"
      },
      "source": [
        "X_train.shape, X_test.shape, y_train.shape, y_test.shape"
      ],
      "execution_count": 104,
      "outputs": [
        {
          "output_type": "execute_result",
          "data": {
            "text/plain": [
              "((28000,), (12000,), (28000,), (12000,))"
            ]
          },
          "metadata": {
            "tags": []
          },
          "execution_count": 104
        }
      ]
    },
    {
      "cell_type": "code",
      "metadata": {
        "colab": {
          "base_uri": "https://localhost:8080/"
        },
        "id": "y0aEJNYRGw5V",
        "outputId": "abe78ae1-e658-45f9-9b41-542900e04472"
      },
      "source": [
        "from sklearn.linear_model import SGDClassifier\r\n",
        "from sklearn.metrics import classification_report\r\n",
        "from sklearn.metrics import accuracy_score\r\n",
        "from sklearn.pipeline import Pipeline\r\n",
        "from sklearn.feature_extraction.text import CountVectorizer, TfidfVectorizer\r\n",
        "from sklearn.feature_extraction.text import TfidfTransformer \r\n",
        "\r\n",
        "sgd = Pipeline([('vect', TfidfVectorizer()),\r\n",
        "                ('tfidf', TfidfTransformer()),\r\n",
        "                ('clf', SGDClassifier(loss='hinge', penalty='l2',alpha=1e-3, random_state=42, max_iter=5, tol=None)),\r\n",
        "               ])\r\n",
        "sgd.fit(X_train, y_train)\r\n",
        "y_pred = sgd.predict(X_test)\r\n",
        "print('accuracy %s' % accuracy_score(y_pred, y_test))\r\n",
        "print(classification_report(y_test, y_pred,target_names=selected_tags))"
      ],
      "execution_count": 105,
      "outputs": [
        {
          "output_type": "stream",
          "text": [
            "accuracy 0.7243333333333334\n",
            "               precision    recall  f1-score   support\n",
            "\n",
            "   javascript       0.40      0.02      0.04       106\n",
            "         java       0.69      0.92      0.79       998\n",
            "           c#       0.54      0.14      0.22       148\n",
            "          php       0.46      0.12      0.19       188\n",
            "      android       0.75      0.62      0.68       252\n",
            "       jquery       0.74      0.76      0.75      1437\n",
            "       python       0.78      0.66      0.71       608\n",
            "         html       0.35      0.19      0.25       147\n",
            "          c++       0.60      0.29      0.39       315\n",
            "          ios       0.63      0.82      0.71       491\n",
            "        mysql       0.59      0.20      0.30       229\n",
            "          css       0.81      0.82      0.81      1703\n",
            "          sql       0.65      0.81      0.72      1701\n",
            "      asp.net       0.60      0.24      0.34       422\n",
            "  objective-c       0.75      0.46      0.57       294\n",
            "ruby-on-rails       0.67      0.09      0.16       151\n",
            "         .net       0.73      0.91      0.81      1263\n",
            "            c       0.85      0.95      0.90       909\n",
            "       iphone       0.86      0.89      0.88       336\n",
            "    angularjs       0.68      0.62      0.64       302\n",
            "\n",
            "     accuracy                           0.72     12000\n",
            "    macro avg       0.66      0.53      0.54     12000\n",
            " weighted avg       0.71      0.72      0.70     12000\n",
            "\n"
          ],
          "name": "stdout"
        }
      ]
    },
    {
      "cell_type": "code",
      "metadata": {
        "id": "J9yLpAHyFdNY"
      },
      "source": [
        "#from sklearn.externals import joblib\r\n",
        "#joblib.dump(sgd, 'model.pkl')"
      ],
      "execution_count": 106,
      "outputs": []
    }
  ]
}